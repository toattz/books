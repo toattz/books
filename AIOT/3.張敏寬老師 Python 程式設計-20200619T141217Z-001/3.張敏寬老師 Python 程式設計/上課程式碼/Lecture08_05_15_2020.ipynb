{
 "cells": [
  {
   "cell_type": "code",
   "execution_count": 1,
   "metadata": {},
   "outputs": [],
   "source": [
    "import pandas as pd"
   ]
  },
  {
   "cell_type": "code",
   "execution_count": 2,
   "metadata": {},
   "outputs": [],
   "source": [
    "My_series = pd.Series([1,2,3])"
   ]
  },
  {
   "cell_type": "code",
   "execution_count": 3,
   "metadata": {},
   "outputs": [
    {
     "data": {
      "text/plain": [
       "0    1\n",
       "1    2\n",
       "2    3\n",
       "dtype: int64"
      ]
     },
     "execution_count": 3,
     "metadata": {},
     "output_type": "execute_result"
    }
   ],
   "source": [
    "My_series"
   ]
  },
  {
   "cell_type": "code",
   "execution_count": 4,
   "metadata": {},
   "outputs": [],
   "source": [
    "My_DF = pd.DataFrame([[1,2,3],[4,5,6]])"
   ]
  },
  {
   "cell_type": "code",
   "execution_count": 5,
   "metadata": {},
   "outputs": [
    {
     "data": {
      "text/html": [
       "<div>\n",
       "<style scoped>\n",
       "    .dataframe tbody tr th:only-of-type {\n",
       "        vertical-align: middle;\n",
       "    }\n",
       "\n",
       "    .dataframe tbody tr th {\n",
       "        vertical-align: top;\n",
       "    }\n",
       "\n",
       "    .dataframe thead th {\n",
       "        text-align: right;\n",
       "    }\n",
       "</style>\n",
       "<table border=\"1\" class=\"dataframe\">\n",
       "  <thead>\n",
       "    <tr style=\"text-align: right;\">\n",
       "      <th></th>\n",
       "      <th>0</th>\n",
       "      <th>1</th>\n",
       "      <th>2</th>\n",
       "    </tr>\n",
       "  </thead>\n",
       "  <tbody>\n",
       "    <tr>\n",
       "      <th>0</th>\n",
       "      <td>1</td>\n",
       "      <td>2</td>\n",
       "      <td>3</td>\n",
       "    </tr>\n",
       "    <tr>\n",
       "      <th>1</th>\n",
       "      <td>4</td>\n",
       "      <td>5</td>\n",
       "      <td>6</td>\n",
       "    </tr>\n",
       "  </tbody>\n",
       "</table>\n",
       "</div>"
      ],
      "text/plain": [
       "   0  1  2\n",
       "0  1  2  3\n",
       "1  4  5  6"
      ]
     },
     "execution_count": 5,
     "metadata": {},
     "output_type": "execute_result"
    }
   ],
   "source": [
    "My_DF"
   ]
  },
  {
   "cell_type": "code",
   "execution_count": 7,
   "metadata": {},
   "outputs": [],
   "source": [
    "user_name = ['John', 'Mary', 'Joe']\n",
    "passwords= ['123','456','789']"
   ]
  },
  {
   "cell_type": "code",
   "execution_count": 9,
   "metadata": {},
   "outputs": [],
   "source": [
    "User_DF = pd.DataFrame({'name':user_name, 'pwd':passwords})"
   ]
  },
  {
   "cell_type": "code",
   "execution_count": 10,
   "metadata": {},
   "outputs": [
    {
     "data": {
      "text/html": [
       "<div>\n",
       "<style scoped>\n",
       "    .dataframe tbody tr th:only-of-type {\n",
       "        vertical-align: middle;\n",
       "    }\n",
       "\n",
       "    .dataframe tbody tr th {\n",
       "        vertical-align: top;\n",
       "    }\n",
       "\n",
       "    .dataframe thead th {\n",
       "        text-align: right;\n",
       "    }\n",
       "</style>\n",
       "<table border=\"1\" class=\"dataframe\">\n",
       "  <thead>\n",
       "    <tr style=\"text-align: right;\">\n",
       "      <th></th>\n",
       "      <th>name</th>\n",
       "      <th>pwd</th>\n",
       "    </tr>\n",
       "  </thead>\n",
       "  <tbody>\n",
       "    <tr>\n",
       "      <th>0</th>\n",
       "      <td>John</td>\n",
       "      <td>123</td>\n",
       "    </tr>\n",
       "    <tr>\n",
       "      <th>1</th>\n",
       "      <td>Mary</td>\n",
       "      <td>456</td>\n",
       "    </tr>\n",
       "    <tr>\n",
       "      <th>2</th>\n",
       "      <td>Joe</td>\n",
       "      <td>789</td>\n",
       "    </tr>\n",
       "  </tbody>\n",
       "</table>\n",
       "</div>"
      ],
      "text/plain": [
       "   name  pwd\n",
       "0  John  123\n",
       "1  Mary  456\n",
       "2   Joe  789"
      ]
     },
     "execution_count": 10,
     "metadata": {},
     "output_type": "execute_result"
    }
   ],
   "source": [
    "User_DF"
   ]
  },
  {
   "cell_type": "code",
   "execution_count": 11,
   "metadata": {},
   "outputs": [],
   "source": [
    "User_DF.to_csv('user_info.csv')"
   ]
  },
  {
   "cell_type": "code",
   "execution_count": 12,
   "metadata": {},
   "outputs": [
    {
     "data": {
      "text/html": [
       "<div>\n",
       "<style scoped>\n",
       "    .dataframe tbody tr th:only-of-type {\n",
       "        vertical-align: middle;\n",
       "    }\n",
       "\n",
       "    .dataframe tbody tr th {\n",
       "        vertical-align: top;\n",
       "    }\n",
       "\n",
       "    .dataframe thead th {\n",
       "        text-align: right;\n",
       "    }\n",
       "</style>\n",
       "<table border=\"1\" class=\"dataframe\">\n",
       "  <thead>\n",
       "    <tr style=\"text-align: right;\">\n",
       "      <th></th>\n",
       "      <th>Unnamed: 0</th>\n",
       "      <th>name</th>\n",
       "      <th>pwd</th>\n",
       "    </tr>\n",
       "  </thead>\n",
       "  <tbody>\n",
       "    <tr>\n",
       "      <th>0</th>\n",
       "      <td>0</td>\n",
       "      <td>John</td>\n",
       "      <td>123</td>\n",
       "    </tr>\n",
       "    <tr>\n",
       "      <th>1</th>\n",
       "      <td>1</td>\n",
       "      <td>Mary</td>\n",
       "      <td>456</td>\n",
       "    </tr>\n",
       "    <tr>\n",
       "      <th>2</th>\n",
       "      <td>2</td>\n",
       "      <td>Joe</td>\n",
       "      <td>789</td>\n",
       "    </tr>\n",
       "  </tbody>\n",
       "</table>\n",
       "</div>"
      ],
      "text/plain": [
       "   Unnamed: 0  name  pwd\n",
       "0           0  John  123\n",
       "1           1  Mary  456\n",
       "2           2   Joe  789"
      ]
     },
     "execution_count": 12,
     "metadata": {},
     "output_type": "execute_result"
    }
   ],
   "source": [
    "User_info_DF = pd.read_csv('user_info.csv')\n",
    "User_info_DF"
   ]
  },
  {
   "cell_type": "code",
   "execution_count": 13,
   "metadata": {},
   "outputs": [],
   "source": [
    "User_info_DF_Selected = User_info_DF[['name','pwd']]"
   ]
  },
  {
   "cell_type": "code",
   "execution_count": 14,
   "metadata": {},
   "outputs": [
    {
     "data": {
      "text/html": [
       "<div>\n",
       "<style scoped>\n",
       "    .dataframe tbody tr th:only-of-type {\n",
       "        vertical-align: middle;\n",
       "    }\n",
       "\n",
       "    .dataframe tbody tr th {\n",
       "        vertical-align: top;\n",
       "    }\n",
       "\n",
       "    .dataframe thead th {\n",
       "        text-align: right;\n",
       "    }\n",
       "</style>\n",
       "<table border=\"1\" class=\"dataframe\">\n",
       "  <thead>\n",
       "    <tr style=\"text-align: right;\">\n",
       "      <th></th>\n",
       "      <th>name</th>\n",
       "      <th>pwd</th>\n",
       "    </tr>\n",
       "  </thead>\n",
       "  <tbody>\n",
       "    <tr>\n",
       "      <th>0</th>\n",
       "      <td>John</td>\n",
       "      <td>123</td>\n",
       "    </tr>\n",
       "    <tr>\n",
       "      <th>1</th>\n",
       "      <td>Mary</td>\n",
       "      <td>456</td>\n",
       "    </tr>\n",
       "    <tr>\n",
       "      <th>2</th>\n",
       "      <td>Joe</td>\n",
       "      <td>789</td>\n",
       "    </tr>\n",
       "  </tbody>\n",
       "</table>\n",
       "</div>"
      ],
      "text/plain": [
       "   name  pwd\n",
       "0  John  123\n",
       "1  Mary  456\n",
       "2   Joe  789"
      ]
     },
     "execution_count": 14,
     "metadata": {},
     "output_type": "execute_result"
    }
   ],
   "source": [
    "User_info_DF_Selected"
   ]
  },
  {
   "cell_type": "code",
   "execution_count": 15,
   "metadata": {},
   "outputs": [
    {
     "data": {
      "text/plain": [
       "0    John\n",
       "1    Mary\n",
       "2     Joe\n",
       "Name: name, dtype: object"
      ]
     },
     "execution_count": 15,
     "metadata": {},
     "output_type": "execute_result"
    }
   ],
   "source": [
    "User_info_DF_Selected.name"
   ]
  },
  {
   "cell_type": "code",
   "execution_count": 16,
   "metadata": {},
   "outputs": [
    {
     "data": {
      "text/plain": [
       "pandas.core.series.Series"
      ]
     },
     "execution_count": 16,
     "metadata": {},
     "output_type": "execute_result"
    }
   ],
   "source": [
    "type(User_info_DF_Selected.name)"
   ]
  },
  {
   "cell_type": "code",
   "execution_count": 17,
   "metadata": {},
   "outputs": [
    {
     "data": {
      "text/plain": [
       "0    123\n",
       "1    456\n",
       "2    789\n",
       "Name: pwd, dtype: int64"
      ]
     },
     "execution_count": 17,
     "metadata": {},
     "output_type": "execute_result"
    }
   ],
   "source": [
    "User_info_DF_Selected.pwd"
   ]
  },
  {
   "cell_type": "code",
   "execution_count": 18,
   "metadata": {},
   "outputs": [
    {
     "data": {
      "text/plain": [
       "pandas.core.series.Series"
      ]
     },
     "execution_count": 18,
     "metadata": {},
     "output_type": "execute_result"
    }
   ],
   "source": [
    "type(User_info_DF_Selected.pwd)"
   ]
  },
  {
   "cell_type": "code",
   "execution_count": 19,
   "metadata": {},
   "outputs": [
    {
     "data": {
      "text/plain": [
       "pandas.core.series.Series"
      ]
     },
     "execution_count": 19,
     "metadata": {},
     "output_type": "execute_result"
    }
   ],
   "source": [
    "type(User_info_DF_Selected['pwd'])"
   ]
  },
  {
   "cell_type": "code",
   "execution_count": 20,
   "metadata": {},
   "outputs": [
    {
     "name": "stdout",
     "output_type": "stream",
     "text": [
      "請輸入帳號: 123\n",
      "John\n",
      "Mary\n",
      "Joe\n"
     ]
    }
   ],
   "source": [
    "user_name = input('請輸入帳號: ')\n",
    "\n",
    "for try_username in User_info_DF_Selected.name:\n",
    "    print(try_username)"
   ]
  },
  {
   "cell_type": "code",
   "execution_count": 21,
   "metadata": {},
   "outputs": [
    {
     "name": "stdout",
     "output_type": "stream",
     "text": [
      "請輸入帳號: John\n",
      "John\n"
     ]
    }
   ],
   "source": [
    "user_name = input('請輸入帳號: ')\n",
    "\n",
    "for try_username in User_info_DF_Selected.name:\n",
    "    if try_username == user_name:\n",
    "        print(try_username)"
   ]
  },
  {
   "cell_type": "code",
   "execution_count": 35,
   "metadata": {},
   "outputs": [
    {
     "name": "stdout",
     "output_type": "stream",
     "text": [
      "請輸入帳號: Mary\n",
      "請輸入密碼: 456\n",
      "密碼正確\n"
     ]
    }
   ],
   "source": [
    "user_name = input('請輸入帳號: ')\n",
    "Index = 0\n",
    "for try_username in User_info_DF_Selected.name:\n",
    "    if try_username == user_name:\n",
    "        try_password = input('請輸入密碼: ')\n",
    "        if str(User_info_DF_Selected.pwd[Index]) == try_password:\n",
    "            print('密碼正確')\n",
    "    Index = Index + 1"
   ]
  },
  {
   "cell_type": "code",
   "execution_count": 25,
   "metadata": {},
   "outputs": [
    {
     "data": {
      "text/html": [
       "<div>\n",
       "<style scoped>\n",
       "    .dataframe tbody tr th:only-of-type {\n",
       "        vertical-align: middle;\n",
       "    }\n",
       "\n",
       "    .dataframe tbody tr th {\n",
       "        vertical-align: top;\n",
       "    }\n",
       "\n",
       "    .dataframe thead th {\n",
       "        text-align: right;\n",
       "    }\n",
       "</style>\n",
       "<table border=\"1\" class=\"dataframe\">\n",
       "  <thead>\n",
       "    <tr style=\"text-align: right;\">\n",
       "      <th></th>\n",
       "      <th>name</th>\n",
       "      <th>pwd</th>\n",
       "    </tr>\n",
       "  </thead>\n",
       "  <tbody>\n",
       "    <tr>\n",
       "      <th>0</th>\n",
       "      <td>John</td>\n",
       "      <td>123</td>\n",
       "    </tr>\n",
       "  </tbody>\n",
       "</table>\n",
       "</div>"
      ],
      "text/plain": [
       "   name  pwd\n",
       "0  John  123"
      ]
     },
     "execution_count": 25,
     "metadata": {},
     "output_type": "execute_result"
    }
   ],
   "source": [
    "User_info_DF_Selected.query(''' name == 'John' ''')"
   ]
  },
  {
   "cell_type": "code",
   "execution_count": 32,
   "metadata": {},
   "outputs": [
    {
     "data": {
      "text/plain": [
       "456"
      ]
     },
     "execution_count": 32,
     "metadata": {},
     "output_type": "execute_result"
    }
   ],
   "source": [
    "User_info_DF_Selected.pwd[1]"
   ]
  },
  {
   "cell_type": "code",
   "execution_count": 50,
   "metadata": {},
   "outputs": [],
   "source": [
    "User_info_DF_Selected_NewIndexing = User_info_DF_Selected.set_index('name')"
   ]
  },
  {
   "cell_type": "code",
   "execution_count": 51,
   "metadata": {},
   "outputs": [
    {
     "data": {
      "text/html": [
       "<div>\n",
       "<style scoped>\n",
       "    .dataframe tbody tr th:only-of-type {\n",
       "        vertical-align: middle;\n",
       "    }\n",
       "\n",
       "    .dataframe tbody tr th {\n",
       "        vertical-align: top;\n",
       "    }\n",
       "\n",
       "    .dataframe thead th {\n",
       "        text-align: right;\n",
       "    }\n",
       "</style>\n",
       "<table border=\"1\" class=\"dataframe\">\n",
       "  <thead>\n",
       "    <tr style=\"text-align: right;\">\n",
       "      <th></th>\n",
       "      <th>pwd</th>\n",
       "    </tr>\n",
       "    <tr>\n",
       "      <th>name</th>\n",
       "      <th></th>\n",
       "    </tr>\n",
       "  </thead>\n",
       "  <tbody>\n",
       "    <tr>\n",
       "      <th>John</th>\n",
       "      <td>123</td>\n",
       "    </tr>\n",
       "    <tr>\n",
       "      <th>Mary</th>\n",
       "      <td>456</td>\n",
       "    </tr>\n",
       "    <tr>\n",
       "      <th>Joe</th>\n",
       "      <td>789</td>\n",
       "    </tr>\n",
       "  </tbody>\n",
       "</table>\n",
       "</div>"
      ],
      "text/plain": [
       "      pwd\n",
       "name     \n",
       "John  123\n",
       "Mary  456\n",
       "Joe   789"
      ]
     },
     "execution_count": 51,
     "metadata": {},
     "output_type": "execute_result"
    }
   ],
   "source": [
    "User_info_DF_Selected_NewIndexing"
   ]
  },
  {
   "cell_type": "code",
   "execution_count": 55,
   "metadata": {},
   "outputs": [
    {
     "name": "stdout",
     "output_type": "stream",
     "text": [
      "請輸入帳號: John\n",
      "請輸入密碼: 123\n",
      "密碼正確\n"
     ]
    }
   ],
   "source": [
    "user_name = input('請輸入帳號: ')\n",
    "User_info_DF_Selected_NewIndexing = User_info_DF_Selected.set_index('name')\n",
    "for try_username in User_info_DF_Selected.name:\n",
    "    if try_username == user_name:\n",
    "        try_password = input('請輸入密碼: ')\n",
    "        if str(User_info_DF_Selected_NewIndexing.loc[try_username]['pwd']) == try_password:\n",
    "            print('密碼正確')"
   ]
  },
  {
   "cell_type": "code",
   "execution_count": 54,
   "metadata": {},
   "outputs": [
    {
     "data": {
      "text/plain": [
       "789"
      ]
     },
     "execution_count": 54,
     "metadata": {},
     "output_type": "execute_result"
    }
   ],
   "source": [
    "User_info_DF_Selected_NewIndexing.loc[try_username]['pwd']"
   ]
  },
  {
   "cell_type": "code",
   "execution_count": 56,
   "metadata": {},
   "outputs": [],
   "source": [
    "import requests\n",
    "from bs4 import BeautifulSoup"
   ]
  },
  {
   "cell_type": "code",
   "execution_count": 57,
   "metadata": {},
   "outputs": [],
   "source": [
    "Taiwan_LOTTE = requests.get('https://www.taiwanlottery.com.tw/')"
   ]
  },
  {
   "cell_type": "code",
   "execution_count": 58,
   "metadata": {},
   "outputs": [
    {
     "data": {
      "text/plain": [
       "'\\r\\n<!DOCTYPE html PUBLIC \"-//W3C//DTD XHTML 1.0 Transitional//EN\" \"http://www.w3.org/TR/xhtml1/DTD/xhtml1-transitional.dtd\">\\r\\n<html xmlns=\"http://www.w3.org/1999/xhtml\">\\r\\n<head><meta http-equiv=\"X-UA-Compatible\" content=\"IE=EmulateIE8\" /><meta http-equiv=\"Content-Type\" content=\"text/html; charset=UTF-8\" /><title>\\r\\n\\t台灣彩券 taiwanlottery\\r\\n</title>\\r\\n<script type=\"text/javascript\" language=\"JavaScript\" src=\"showlist.js\"  charset=\"big5\"></script>\\r\\n<script type=\"text/javascript\" language=\"JavaScript\" src=\"js/banner.js\" ></script>\\r\\n<link href=\"css1.css?ver=1.0\" rel=\"stylesheet\" type=\"text/css\" />\\r\\n<script language=\"javascript\" type=\"text/javascript\">\\r\\n    function setClass(obj1, obj2, item1, item2) {\\r\\n        obj1.style.display = \\'block\\';\\r\\n        obj2.style.display = \\'none\\';\\r\\n\\r\\n        item1.setAttribute(\"class\", \"left_top_clicked\");\\r\\n        item2.setAttribute(\"class\", \"left_top_unclicked\");\\r\\n    }\\r\\n    </script>\\r\\n\\t<script type=\"text/JavaScript\">\\r\\n\\r\\n<!--\\r\\n\\r\\n\\t    if (navigator.appName.indexOf(\"Internet Explorer\") != -1)\\r\\n\\r\\n\\t        document.onmousedown = noSourceExplorer;\\r\\n\\r\\n\\t    function noSourceExplorer() {\\r\\n\\r\\n\\t        if (event.button == 2 | event.button == 3) {\\r\\n\\r\\n\\t            alert(\"版權所有 台灣彩券\");\\r\\n\\r\\n\\t            //location.replace(\"http://www.taiwanlottery.com.tw/\");\\r\\n\\r\\n\\t        }\\r\\n\\r\\n\\t    }\\r\\n\\r\\n-->\\r\\n\\r\\n</script>\\r\\n<!-- Global site tag (gtag.js) - Google Analytics -->\\r\\n<script async src=\"https://www.googletagmanager.com/gtag/js?id=UA-149343827-1\"></script>\\r\\n<script>\\r\\n  window.dataLayer = window.dataLayer || [];\\r\\n  function gtag(){dataLayer.push(arguments);}\\r\\n  gtag(\\'js\\', new Date());\\r\\n\\r\\n  gtag(\\'config\\', \\'UA-149343827-1\\');\\r\\n</script>\\r\\n\\r\\n</head>\\r\\n<body onLoad=\"showBanner();\">\\r\\n    <form method=\"post\" action=\"index_new.aspx\" id=\"form1\">\\r\\n<input type=\"hidden\" name=\"__VIEWSTATE\" id=\"__VIEWSTATE\" value=\"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\" />\\r\\n\\r\\n<input type=\"hidden\" name=\"__VIEWSTATEGENERATOR\" id=\"__VIEWSTATEGENERATOR\" value=\"56A5C0AB\" />\\r\\n<div id=\"wrapper_overflow\">\\r\\n  <iframe src=\"header.asp\" width=\"1024\" height=\"68\" scrolling=\"no\"  frameborder=\"0\"> </iframe>\\r\\n  <div id=\"left\">\\r\\n    <!--***************刮刮樂 區塊***************-->\\r\\n    <div id=\"left_top\">\\r\\n                <div id=\"left_top_btn01\" class=\"left_top_clicked\" onclick=\"setClass(left_top_contents01,left_top_contents02,left_top_btn01,left_top_btn02);\">\\r\\n                    熱賣中</div>\\r\\n                <div id=\"left_top_btn02\" class=\"left_top_unclicked\" onclick=\"setClass(left_top_contents02,left_top_contents01,left_top_btn02,left_top_btn01);\">\\r\\n                    預告</div>\\r\\n                <div id=\"left_top_contents01\" class=\"display_block\">\\r\\n                    <iframe src=\"index_onsale.html \" width=\"224px\" height=\"164px\" scrolling=\"yes\" frameborder=\"0\">\\r\\n                    </iframe>\\r\\n                </div>\\r\\n                <div id=\"left_top_contents02\" class=\"display_none\">\\r\\n                    <iframe src=\"index_coming.html\" width=\"224px\" height=\"164px\" scrolling=\"yes\" frameborder=\"0\">\\r\\n                    </iframe>\\r\\n                </div>\\r\\n</div>\\r\\n    <!--***************開獎實況轉播電視圖***************-->\\r\\n <a href=\"https://fnc.ebc.net.tw/TaiwanLottery/\">   <img src=\"images/twl_index_pic_TV.gif\" alt=\"TV\" /></a>\\r\\n     <!--***************2020防疫專區新增區域***************-->\\r\\n  <p style=\"font-size:0px;height:2px;overflow:hidden;padding:0px;margin:5px;\"></p>\\r\\n  <a href=\"prevent.asp\">\\r\\n  <img border=\"0\" src=\"images/twl_index_banner_168.gif\" alt=\"防疫專區\" ></a>\\r\\n  <p style=\"font-size:0px;height:2px;overflow:hidden;padding:0px;margin:5px;\"></p>\\r\\n    <!--ContentArea 選單Start-->\\r\\n  <!DOCTYPE html PUBLIC \"-//W3C//DTD XHTML 1.0 Transitional//EN\" \"http://www.w3.org/TR/xhtml1/DTD/xhtml1-transitional.dtd\">\\r\\n<html xmlns=\"http://www.w3.org/1999/xhtml\">\\r\\n<head>\\r\\n    <link rel=\"stylesheet\" type=\"text/css\" href=\"menu.css\" />\\r\\n</head>\\r\\n<body>\\r\\n    <div id=\"nav\">\\r\\n        <ul>\\r\\n            <li class=\"has_sub\"><a href=\"#\" onclick=\"window.parent.location.href=\\'about/tlc.asp\\';\">\\r\\n                關於台灣彩券</a>\\r\\n                <ul>\\r\\n                    <li><a href=\"#\" onclick=\"window.parent.location.href=\\'about/tlc.asp\\';\">認識台灣彩券</a></li><div\\r\\n                        class=\"dotted00_2\">\\r\\n                    </div>\\r\\n                    <li><a href=\"#\" onclick=\"window.parent.location.href=\\'about/lottery.asp\\';\">認識公益彩券</a></li><div\\r\\n                        class=\"dotted00_2\">\\r\\n                    </div>\\r\\n\\t\\t\\t\\t\\t<!--li><a href=\"#\" onclick=\"window.parent.location.href=\\'about/CSR.asp\\';\">企業社會責任</a></li-->\\r\\n                </ul>\\r\\n            </li>\\r\\n            <div class=\"dotted00\">\\r\\n            </div>\\r\\n            <li class=\"has_sub\"><a href=\"#\" onclick=\"window.parent.location.href=\\'SuperLotto638/index.asp\\';\">\\r\\n                威力彩</a>\\r\\n                <ul>\\r\\n                    <li class=\"img_logo01\"></li>\\r\\n                    <div class=\"dotted00_2\">\\r\\n                    </div>\\r\\n                    <li><a href=\"#\" onclick=\"window.parent.location.href=\\'SuperLotto638/index.asp\\';\">\\r\\n                        遊戲介紹</a></li><div class=\"dotted00_2\">\\r\\n                        </div>\\r\\n                    <li><a href=\"#\" onclick=\"window.parent.location.href=\\'lotto/superlotto638/history.aspx\\';\">\\r\\n                        各期獎號與開獎結果</a></li><div class=\"dotted00_2\">\\r\\n                        </div>\\r\\n                    <li><a href=\"#\" onclick=\"window.parent.location.href=\\'/Lotto/se/store.aspx?TYPE=SL638\\';\">頭獎商店</a></li><div\\r\\n                        class=\"dotted00_2\">\\r\\n                    </div>\\r\\n                    <li><a href=\"#\" onclick=\"window.parent.location.href=\\'SuperLotto638/schedule.asp\\';\">\\r\\n                        開獎時間</a></li><div class=\"dotted00_2\">\\r\\n                        </div>\\r\\n                    <li><a href=\"#\" onclick=\"window.parent.location.href=\\'Info/number/frequency.aspx?GAME=SL638\\';\">\\r\\n                        冷熱門球號</a></li>\\r\\n                </ul>\\r\\n            </li>\\r\\n            <div class=\"dotted00\">\\r\\n            </div>\\r\\n            <li class=\"has_sub\"><a href=\"#\" onclick=\"window.parent.location.href=\\'Lotto649/index.asp\\';\">\\r\\n                大樂透</a>\\r\\n                <ul>\\r\\n                    <li class=\"img_logo02\"></li>\\r\\n                    <div class=\"dotted00_2\">\\r\\n                    </div>\\r\\n                    <li><a href=\"#\" onclick=\"window.parent.location.href=\\'Lotto649/index.asp\\';\">\\r\\n                        遊戲介紹</a></li><div class=\"dotted00_2\">\\r\\n                        </div>\\r\\n                    <li><a href=\"#\" onclick=\"window.parent.location.href=\\'lotto/Lotto649/history.aspx\\';\">\\r\\n                        各期獎號與開獎結果</a></li><div class=\"dotted00_2\">\\r\\n                        </div>\\r\\n                    <li><a href=\"#\" onclick=\"window.parent.location.href=\\'Lotto/se/store.aspx?TYPE=649\\';\">頭獎商店</a></li><div\\r\\n                        class=\"dotted00_2\">\\r\\n                    </div>\\r\\n                    <li><a href=\"#\" onclick=\"window.parent.location.href=\\'Lotto649/schedule.asp\\';\">\\r\\n                        開獎時間</a></li><div class=\"dotted00_2\">\\r\\n                        </div>\\r\\n                    <li><a href=\"#\" onclick=\"window.parent.location.href=\\'Info/number/frequency.aspx?GAME=649\\';\">\\r\\n                        冷熱門球號</a></li>\\r\\n                </ul>\\r\\n            </li>\\r\\n\\t\\t\\t <!--div class=\"dotted00\">\\r\\n            </div>\\r\\n            <li class=\"has_sub\"><a href=\"#\" onclick=\"window.parent.location.href=\\'Lotto740/index.asp\\';\">\\r\\n                大福彩</a>\\r\\n                <ul>\\r\\n                    <li class=\"img_logo11\"></li>\\r\\n                    <div class=\"dotted00_2\">\\r\\n                    </div>\\r\\n                    <li><a href=\"#\" onclick=\"window.parent.location.href=\\'Lotto740/index.asp\\';\">\\r\\n                        遊戲介紹</a></li><div class=\"dotted00_2\">\\r\\n                        </div>\\r\\n                    <li><a href=\"#\" onclick=\"window.parent.location.href=\\'lotto/Lotto740/history.aspx\\';\">\\r\\n                        各期獎號與開獎結果</a></li><div class=\"dotted00_2\">\\r\\n                        </div>\\r\\n                    <li><a href=\"#\" onclick=\"window.parent.location.href=\\'Lotto/se/store.aspx?TYPE=740\\';\">頭獎商店</a></li><div\\r\\n                        class=\"dotted00_2\">\\r\\n                    </div>\\r\\n                    <li><a href=\"#\" onclick=\"window.parent.location.href=\\'Lotto740/schedule.asp\\';\">\\r\\n                        開獎時間</a></li><div class=\"dotted00_2\">\\r\\n                        </div>\\r\\n                    <li><a href=\"#\" onclick=\"window.parent.location.href=\\'Info/number/frequency.aspx?GAME=740\\';\">\\r\\n                        冷熱門球號</a></li>\\r\\n                </ul>\\r\\n            </li-->\\r\\n            <div class=\"dotted00\">\\r\\n            </div>\\r\\n            <li class=\"has_sub\"><a href=\"#\" onclick=\"window.parent.location.href=\\'DailyCash/index.asp\\';\">\\r\\n                今彩539</a>\\r\\n                <ul>\\r\\n                    <li class=\"img_logo03\"></li>\\r\\n                    <div class=\"dotted00_2\">\\r\\n                    </div>\\r\\n                    <li><a href=\"#\" onclick=\"window.parent.location.href=\\'DailyCash/index.asp\\';\">\\r\\n                        遊戲介紹</a></li><div class=\"dotted00_2\">\\r\\n                        </div>\\r\\n                    <li><a href=\"#\" onclick=\"window.parent.location.href=\\'lotto/DailyCash/history.aspx\\';\">\\r\\n                        各期獎號與開獎結果</a></li><div class=\"dotted00_2\">\\r\\n                        </div>\\r\\n                    <li><a href=\"#\" onclick=\"window.parent.location.href=\\'Lotto/se/store.aspx?TYPE=539\\';\">頭獎商店</a></li><div\\r\\n                        class=\"dotted00_2\">\\r\\n                    </div>\\r\\n                    <li><a href=\"#\" onclick=\"window.parent.location.href=\\'DailyCash/schedule.asp\\';\">\\r\\n                        開獎時間</a></li><div class=\"dotted00_2\">\\r\\n                        </div>\\r\\n                    <li><a href=\"#\" onclick=\"window.parent.location.href=\\'Info/number/frequency.aspx?GAME=539\\';\">\\r\\n                        冷熱門球號</a></li>\\r\\n                </ul>\\r\\n            </li>\\r\\n            <div class=\"dotted00\">\\r\\n            </div>\\r\\n\\t\\t\\t<li class=\"has_sub\"><a href=\"#\" onclick=\"window.parent.location.href=\\'Lotto1224/index.asp\\';\">\\r\\n                雙贏彩</a>\\r\\n                <ul>\\r\\n                    <li class=\"img_logo12\"></li>\\r\\n                    <div class=\"dotted00_2\">\\r\\n                    </div>\\r\\n                    <li><a href=\"#\" onclick=\"window.parent.location.href=\\'Lotto1224/index.asp\\';\">\\r\\n                        遊戲介紹</a></li><div class=\"dotted00_2\">\\r\\n                        </div>\\r\\n                    <li><a href=\"#\" onclick=\"window.parent.location.href=\\'lotto/Lotto1224/history.aspx\\';\">\\r\\n                        各期獎號與開獎結果</a></li><div class=\"dotted00_2\">\\r\\n                        </div>\\r\\n                    <li><a href=\"#\" onclick=\"window.parent.location.href=\\'Lotto/se/store.aspx?TYPE=1224\\';\">頭獎商店</a></li><div\\r\\n                        class=\"dotted00_2\">\\r\\n                    </div>\\r\\n                    <li><a href=\"#\" onclick=\"window.parent.location.href=\\'Lotto1224/schedule.asp\\';\">\\r\\n                        開獎時間</a></li><div class=\"dotted00_2\">\\r\\n                        </div>\\r\\n                    <li><a href=\"#\" onclick=\"window.parent.location.href=\\'Info/number/frequency.aspx?GAME=1224\\';\">\\r\\n                        冷熱門球號</a></li>\\r\\n                </ul>\\r\\n            </li>\\r\\n            <div class=\"dotted00\">\\r\\n            </div>\\r\\n            <li class=\"has_sub\"><a href=\"#\" onclick=\"window.parent.location.href=\\'BINGOBINGO/index.asp\\';\">\\r\\n                BINGO BINGO賓果賓果</a>\\r\\n                <ul>\\r\\n                    <li class=\"img_logo04\"></li>\\r\\n                    <div class=\"dotted00_2\">\\r\\n                    </div>\\r\\n                    <li><a href=\"#\" onclick=\"window.parent.location.href=\\'BINGOBINGO/index.asp\\';\">\\r\\n                        遊戲介紹</a></li><div class=\"dotted00_2\">\\r\\n                        </div>\\r\\n                    <li><a href=\"#\" onclick=\"window.parent.location.href=\\'lotto/BINGOBINGO/drawing.aspx\\';\">\\r\\n                        各期獎號查詢</a></li><div class=\"dotted00_2\">\\r\\n                        </div>\\r\\n                    <li><a href=\"#\" onclick=\"window.parent.location.href=\\'lotto/BINGOBINGO/history.aspx\\';\">\\r\\n                        各期獎金分配查詢</a></li><div class=\"dotted00_2\">\\r\\n                        </div>\\r\\n                    <li><a href=\"#\" onclick=\"window.parent.location.href=\\'Lotto/BINGOBINGO/store.aspx\\';\">10星商店</a></li><div\\r\\n                        class=\"dotted00_2\">\\r\\n                    </div>\\r\\n                    <li><a href=\"#\" onclick=\"window.parent.location.href=\\'BINGOBINGO/schedule.asp\\';\">\\r\\n                        開獎時間</a></li><div class=\"dotted00_2\">\\r\\n                        </div>\\r\\n                    <li><a href=\"#\" onclick=\"window.parent.location.href=\\'Info/number/frequency.aspx?GAME=BB\\';\">\\r\\n                        冷熱門球號</a></li>\\r\\n                </ul>\\r\\n            </li>\\r\\n            <div class=\"dotted00\">\\r\\n            </div>\\r\\n            <li class=\"has_sub\"><a href=\"#\" onclick=\"window.parent.location.href=\\'3D/index.asp\\';\">\\r\\n                3星彩</a>\\r\\n                <ul>\\r\\n                    <li class=\"img_logo05\"></li>\\r\\n                    <div class=\"dotted00_2\">\\r\\n                    </div>\\r\\n                    <li><a href=\"#\" onclick=\"window.parent.location.href=\\'3D/index.asp\\';\">遊戲介紹</a></li><div\\r\\n                        class=\"dotted00_2\">\\r\\n                    </div>\\r\\n                    <li><a href=\"#\" onclick=\"window.parent.location.href=\\'lotto/3D/history.aspx\\';\">各期獎號與開獎結果</a></li><div\\r\\n                        class=\"dotted00_2\">\\r\\n                    </div>\\r\\n                    <li><a href=\"#\" onclick=\"window.parent.location.href=\\'3D/schedule.asp\\';\">開獎時間</a></li><div\\r\\n                        class=\"dotted00_2\">\\r\\n                    </div>\\r\\n                    <li><a href=\"#\" onclick=\"window.parent.location.href=\\'Info/number/frequency.aspx?GAME=3D\\';\">\\r\\n                        冷熱門球號</a></li>\\r\\n                </ul>\\r\\n            </li>\\r\\n            <div class=\"dotted00\">\\r\\n            </div>\\r\\n            <li class=\"has_sub\"><a href=\"#\" onclick=\"window.parent.location.href=\\'4D/index.asp\\';\">\\r\\n                4星彩</a>\\r\\n                <ul>\\r\\n                    <li class=\"img_logo06\"></li>\\r\\n                    <div class=\"dotted00_2\">\\r\\n                    </div>\\r\\n                    <li><a href=\"#\" onclick=\"window.parent.location.href=\\'4D/index.asp\\';\">遊戲介紹</a></li><div\\r\\n                        class=\"dotted00_2\">\\r\\n                    </div>\\r\\n                    <li><a href=\"#\" onclick=\"window.parent.location.href=\\'lotto/4D/history.aspx\\';\">各期獎號與開獎結果</a></li><div\\r\\n                        class=\"dotted00_2\">\\r\\n                    </div>\\r\\n                    <li><a href=\"#\" onclick=\"window.parent.location.href=\\'4D/schedule.asp\\';\">開獎時間</a></li><div\\r\\n                        class=\"dotted00_2\">\\r\\n                    </div>\\r\\n                    <li><a href=\"#\" onclick=\"window.parent.location.href=\\'Info/number/frequency.aspx?GAME=4D\\';\">\\r\\n                        冷熱門球號</a></li>\\r\\n                </ul>\\r\\n            </li>\\r\\n            <div class=\"dotted00\">\\r\\n            </div>\\r\\n            <li class=\"has_sub\"><a href=\"#\" onclick=\"window.parent.location.href=\\'38M6/index.asp\\';\">\\r\\n                38樂合彩</a>\\r\\n                <ul>\\r\\n                    <li class=\"img_logo07\"></li>\\r\\n                    <div class=\"dotted00_2\">\\r\\n                    </div>\\r\\n                    <li><a href=\"#\" onclick=\"window.parent.location.href=\\'38M6/index.asp\\';\">遊戲介紹</a></li><div\\r\\n                        class=\"dotted00_2\">\\r\\n                    </div>\\r\\n                    <li><a href=\"#\" onclick=\"window.parent.location.href=\\'lotto/38M6/history.aspx\\';\">\\r\\n                        各期獎號與開獎結果</a></li><div class=\"dotted00_2\">\\r\\n                        </div>\\r\\n                    <li><a href=\"#\" onclick=\"window.parent.location.href=\\'38M6/schedule.asp\\';\">開獎時間</a></li><div\\r\\n                        class=\"dotted00_2\">\\r\\n                    </div>\\r\\n                    <li><a href=\"#\" onclick=\"window.parent.location.href=\\'Info/number/frequency.aspx?GAME=38\\';\">\\r\\n                        冷熱門球號</a></li>\\r\\n                </ul>\\r\\n            </li>\\r\\n            <div class=\"dotted00\">\\r\\n            </div>\\r\\n            <li class=\"has_sub\"><a href=\"#\" onclick=\"window.parent.location.href=\\'49M6/index.asp\\';\">\\r\\n                49樂合彩</a>\\r\\n                <ul>\\r\\n                    <li class=\"img_logo08\"></li>\\r\\n                    <div class=\"dotted00_2\">\\r\\n                    </div>\\r\\n                    <li><a href=\"#\" onclick=\"window.parent.location.href=\\'49M6/index.asp\\';\">遊戲介紹</a></li><div\\r\\n                        class=\"dotted00_2\">\\r\\n                    </div>\\r\\n                    <li><a href=\"#\" onclick=\"window.parent.location.href=\\'lotto/49M6/history.aspx\\';\">\\r\\n                        各期獎號與開獎結果</a></li><div class=\"dotted00_2\">\\r\\n                        </div>\\r\\n                    <li><a href=\"#\" onclick=\"window.parent.location.href=\\'49M6/schedule.asp\\';\">開獎時間</a></li><div\\r\\n                        class=\"dotted00_2\">\\r\\n                    </div>\\r\\n                    <li><a href=\"#\" onclick=\"window.parent.location.href=\\'Info/number/frequency.aspx?GAME=49\\';\">\\r\\n                        冷熱門球號</a></li>\\r\\n                </ul>\\r\\n            </li>\\r\\n            <div class=\"dotted00\">\\r\\n            </div>\\r\\n            <li class=\"has_sub\"><a href=\"#\" onclick=\"window.parent.location.href=\\'39M5/index.asp\\';\">\\r\\n                39樂合彩</a>\\r\\n                <ul>\\r\\n                    <li class=\"img_logo09\"></li>\\r\\n                    <div class=\"dotted00_2\">\\r\\n                    </div>\\r\\n                    <li><a href=\"#\" onclick=\"window.parent.location.href=\\'39M5/index.asp\\';\">遊戲介紹</a></li><div\\r\\n                        class=\"dotted00_2\">\\r\\n                    </div>\\r\\n                    <li><a href=\"#\" onclick=\"window.parent.location.href=\\'lotto/39M5/history.aspx\\';\">各期獎號與開獎結果</a></li><div\\r\\n                        class=\"dotted00_2\">\\r\\n                    </div>\\r\\n                    <li><a href=\"#\" onclick=\"window.parent.location.href=\\'39M5/schedule.asp\\';\">開獎時間</a></li><div\\r\\n                        class=\"dotted00_2\">\\r\\n                    </div>\\r\\n                    <li><a href=\"#\" onclick=\"window.parent.location.href=\\'Info/number/frequency.aspx?GAME=39\\';\">\\r\\n                        冷熱門球號</a></li>\\r\\n                </ul>\\r\\n            </li>\\r\\n            <div class=\"dotted00\">\\r\\n            </div>\\r\\n             <li class=\"has_sub\"><a href=\"#\">\\r\\n                「加開獎項」加碼活動專區</a>\\r\\n             \\r\\n                <ul>\\r\\n                    <li><a href=\"#\" onclick=\"window.parent.location.href=\\'/BigRedPacket2020/BigRedPacket109.asp\\';\">109年春節加碼活動辦法</a></li><div\\r\\n                        class=\"dotted00_2\">\\r\\n                    </div>\\r\\n\\t\\t\\t\\t\\t <li>各期獎號與開獎結果</a></li>\\r\\n\\t\\t\\t\\t\\t <li class=\"third_sub\"><a href=\"/lotto/AnnualGreatEvent/BigRedPacket2020/bigred_index109.aspx\">\\r\\n                        109年春節加碼</a></li>\\r\\n\\t\\t\\t\\t\\t  <li class=\"third_sub\"><a href=\"/lotto/AnnualGreatEvent/MoonFestival2019/MoonFestival2019_index.aspx\">\\r\\n                        108年中秋加碼</a></li>\\r\\n\\t\\t\\t\\t\\t <li class=\"third_sub\"><a href=\"/lotto/AnnualGreatEvent/DragonBoatFestival2019/DragonBoat2019_index.aspx\">\\r\\n                        108年端午加碼</a></li>\\r\\n\\t\\t\\t\\t\\t <li class=\"third_sub\"><a href=\"/lotto/AnnualGreatEvent/BigRedPacket2019/bigred_index108.aspx\">\\r\\n                        108年春節加碼</a></li>\\r\\n\\t\\t\\t\\t\\t <li class=\"third_sub\"><a href=\"/lotto/AnnualGreatEvent/MoonFestival2018/MoonFestival_index107.aspx\">\\r\\n                        107年中秋加碼</a></li>\\r\\n\\t\\t\\t\\t\\t  <li class=\"third_sub\"><a href=\"/lotto/AnnualGreatEvent/DragonBoatFestival2018/DragonBoatFestival2018index.aspx\">\\r\\n                        107年端午加碼</a></li>\\r\\n\\t\\t\\t\\t\\t <li class=\"third_sub\"><a href=\"/lotto/AnnualGreatEvent/BigRedPacket2018/bigred_index_result107.aspx\">\\r\\n                        107年春節加碼</a></li>\\r\\n\\t\\t\\t\\t\\t <li class=\"third_sub\"><a href=\"/lotto/AnnualGreatEvent/MoonFestival2017/MoonFestival2017index.aspx\">\\r\\n                        106年中秋加碼</a></li>\\r\\n\\t\\t\\t\\t\\t <li class=\"third_sub\"><a href=\"/lotto/AnnualGreatEvent/DragonBoatFestival2017/bigred_index106.aspx\">\\r\\n                        106年端午加碼</a></li>\\r\\n\\t\\t\\t\\t\\t <li class=\"third_sub\"><a href=\"/lotto/AnnualGreatEvent/BigRedPacket2017/bigred_index_result106.aspx\">\\r\\n                        106年春節加碼</a></li>\\r\\n\\t\\t\\t\\t\\t <li class=\"third_sub\"><a href=\"/lotto/DoubleTen2016/DoubleTen2016index.aspx\">\\r\\n                        105年雙十國慶加碼</a></li>\\r\\n\\t\\t\\t\\t\\t  <li class=\"third_sub\"><a href=\"/lotto/DBF/DragonBoatFestival2016index.aspx\">\\r\\n                        105年端午加碼</a></li>\\r\\n\\t\\t\\t\\t\\t <li class=\"third_sub\"><a href=\"/lotto/AnnualGreatEvent/BigRedPacket2016/bigred_index_result105.aspx\">\\r\\n                        105年春節加碼</a></li>\\r\\n                    <li class=\"third_sub\"><a href=\"/lotto/AnnualGreatEvent/BigRedPacket2015/bigred_index_result.aspx\">\\r\\n                        104年春節加碼</a></li>\\r\\n                    <li class=\"third_sub\"><a href=\"/lotto/AnnualGreatEvent/BigRedPacket2014/bigred_index_result.aspx\">\\r\\n                        103年春節加碼</a></li>\\r\\n                         <!--li><a href=\"#\" onclick=\"window.parent.location.href=\\'http://www.taiwanlottery.com.tw/lotto/AnnualGreatEvent/BigRedPacket2014/bigred_index_result.aspx\\';\">\\r\\n                        各期獎號與開獎結果 </a></li-->\\r\\n\\t\\t\\t\\t\\t\\t\\r\\n                         <div class=\"dotted00_2\">\\r\\n                        </div>\\r\\n                </ul>\\r\\n          </li> \\r\\n            <div class=\"dotted00\">\\r\\n            </div> \\r\\n            <li class=\"has_sub\"><a href=\"#\" onclick=\"window.parent.location.href=\\'instant/index.asp\\';\">\\r\\n                刮刮樂</a>\\r\\n                <ul>\\r\\n                    <li class=\"img_logo10\"></li>\\r\\n                    <div class=\"dotted00_2\">\\r\\n                    </div>\\r\\n                    <li><a href=\"#\" onclick=\"window.parent.location.href=\\'instant/index.asp\\';\">刮刮樂介紹</a></li><div\\r\\n                        class=\"dotted00_2\">\\r\\n                    </div>           \\r\\n                    <li><a href=\"#\" onclick=\"window.parent.location.href=\\'instant/games.asp\\';\">熱賣中刮刮樂</a></li><div\\r\\n                        class=\"dotted00_2\">\\r\\n                    </div>\\r\\n\\t\\t\\t\\t\\t <li><a href=\"#\" onclick=\"window.parent.location.href=\\'instant/preview.asp\\';\">\\r\\n                        刮刮樂預告</a></li><div class=\"dotted00_2\">\\r\\n                        </div>\\r\\n                    <li><a href=\"#\" onclick=\"window.parent.location.href=\\'info/instant/sale.aspx\\';\">刮刮樂銷售資訊</a></li>\\r\\n\\r\\n                </ul>\\r\\n            </li>\\r\\n            <div class=\"dotted00\">\\r\\n            </div>\\r\\n            <li class=\"has_sub\"><a href=\"#\" onclick=\"window.parent.location.href=\\'info/news/news.aspx\\';\">\\r\\n                新聞及公告</a>\\r\\n                <ul>\\r\\n                    <li><a href=\"#\" onclick=\"window.parent.location.href=\\'info/news/news.aspx\\';\">新聞發佈</a></li><div\\r\\n                        class=\"dotted00_2\">\\r\\n                    </div>\\r\\n                    <li><a href=\"#\" onclick=\"window.parent.location.href=\\'info/info/info.aspx\\';\">公告事項</a></li>\\r\\n                </ul>\\r\\n            </li>\\r\\n            <div class=\"dotted00\">\\r\\n            </div>\\r\\n            <li class=\"has_sub\"><a href=\"#\">\\r\\n                彩券資訊通</a>\\r\\n                <ul class=\"info_lotto_reloc\">\\r\\n                   <li><a href=\"#\" onclick=\"window.parent.location.href=\\'info/lotto/data_SL638.aspx\\';\">威力彩統計資料</a></li><div class=\"dotted00_2\">\\r\\n                        </div>\\r\\n                    <li><a href=\"#\" onclick=\"window.parent.location.href=\\'info/lotto/data_649.aspx\\';\">大樂透統計資料</a></li><div class=\"dotted00_2\">\\r\\n                    </div>\\r\\n\\t\\t\\t\\t\\t<!--li><a href=\"#\" onclick=\"window.parent.location.href=\\'info/lotto/data_740.aspx\\';\">大福彩統計資料</a></li><div class=\"dotted00_2\">\\r\\n                    </div-->\\r\\n                    <li><a href=\"#\" onclick=\"window.parent.location.href=\\'info/lotto/data_539.aspx\\';\">今彩539統計資料</a></li><div class=\"dotted00_2\">\\r\\n                    </div>\\r\\n\\t\\t\\t\\t\\t<li><a href=\"#\" onclick=\"window.parent.location.href=\\'info/lotto/data_1224.aspx\\';\">雙贏彩統計資料</a></li><div class=\"dotted00_2\">\\r\\n                    </div>\\r\\n\\t\\t\\t\\t\\t<li><a href=\"#\" onclick=\"window.parent.location.href=\\'info/download_history.asp\\';\">第4屆各期獎號下載</a></li><div class=\"dotted00_2\">\\r\\n                    </div> \\r\\n\\t\\t\\t\\t\\t<li>第4屆下市遊戲各期獎號</a></li>\\r\\n                    <li class=\"third_sub\"><a href=\"/Lotto/Lotto740/history.aspx\">\\r\\n                        大福彩</a></li>    \\r\\n                    <li>96-102年各期獎號</a></li>\\r\\n                    <li class=\"third_sub\"><a href=\"/3th_lotto/SuperLotto638/history.aspx\">\\r\\n                        威力彩</a></li>\\r\\n                    <li class=\"third_sub\"><a href=\"/3th_lotto/lotto649/history.aspx\">\\r\\n                        大樂透</a></li>\\r\\n                    <!--li class=\"third_sub\"><a href=\"/3th_lotto/BingoBingo/drawing.aspx\">\\r\\n                        BINGO BINGO賓果賓果</a></li-->\\r\\n                    <li class=\"third_sub\"><a href=\"/3th_lotto/DailyCash/history.aspx\">\\r\\n                        今彩539</a></li>\\r\\n\\t\\t\\t\\t\\t<li class=\"third_sub\"><a href=\"/3th_lotto/3D/history.aspx\">\\r\\n                        3星彩</a></li>\\r\\n                    <li class=\"third_sub\"><a href=\"/3th_lotto/4D/history.aspx\">\\r\\n                        4星彩</a></li>\\r\\n                    <li class=\"third_sub\"><a href=\"/3th_lotto/38M6/history.aspx\">\\r\\n                        38樂合彩</a></li>\\r\\n                    <li class=\"third_sub\"><a href=\"/3th_lotto/49M6/history.aspx\">\\r\\n                        49樂合彩</a></li>\\r\\n                    <li class=\"third_sub\"><a href=\"/3th_lotto/39M5/history.aspx\">\\r\\n                        39樂合彩</a></li>\\r\\n                    <li class=\"third_sub\"><a href=\"/3th_lotto/AnnualGreatEvent2013/Result_allAnnual2013.aspx\">\\r\\n                        102年「春節大紅包」獎號<br />\\r\\n                        與開獎結果</a></li>\\r\\n                    <li class=\"third_sub\"><a href=\"/3th_lotto/AnnualGreatEvent/result_allAnnual2012.aspx\">\\r\\n                        101年龍年新春加碼「大紅包」<br />\\r\\n                        獎號與開獎結果</a></li>\\r\\n                    <li class=\"third_sub\"><a href=\"/3th_lotto/mega/result_all.aspx\">\\r\\n                        100年「100組百萬獎金」獎號<br />\\r\\n                        與開獎結果</a></li>\\r\\n                    <li class=\"third_sub\"><a href=\"/3th_lotto/TTT/history.aspx\">\\r\\n                        樂線九宮格</a></li>\\r\\n                    <li class=\"third_sub\"><a href=\"http://www.taiwanlottery.com.tw/3th_Lotto/Lotto638/history.aspx\">\\r\\n                        6/38樂透彩</a></li><div class=\"dotted00_2\"></div>\\r\\n\\t\\t\\t\\t\\t\\t<li><a href=\"#\" onclick=\"window.parent.location.href=\\'/3th_lottery_1230/info/instant/sale.aspx\\';\">96-102年刮刮樂銷售資訊</a></li> \\r\\n                </ul>\\r\\n            </li>\\r\\n            </li>\\r\\n            <div class=\"dotted00\">\\r\\n            </div>\\r\\n            <li class=\"has_sub\"><a href=\"#\" onclick=\"window.parent.location.href=\\'runlottery/runlottery.asp\\';\">\\r\\n                開獎專區</a>\\r\\n                <ul>\\r\\n                    <li><a href=\"#\" onclick=\"window.parent.location.href=\\'runlottery/runlottery.asp\\';\">\\r\\n                        開獎流程</a></li><div class=\"dotted00_2\">\\r\\n                        </div>\\r\\n                    <li><a href=\"#\" onclick=\"window.parent.location.href=\\'runlottery/schedule.asp\\';\">\\r\\n                        開獎時間</a></li><div class=\"dotted00_2\">\\r\\n                        </div>\\r\\n                    <li><a href=\"#\" onclick=\"window.parent.location.href=\\'faq/faq.asp\\';\">開獎問與答</a></li><div\\r\\n                        class=\"dotted00_2\">\\r\\n                    </div>\\r\\n                    <li><a href=\"#\" onclick=\"window.parent.location.href=\\'https://www.youtube.com/channel/UCK1Zh_2KvKKFkDBCSYuLjAw\\';\">\\r\\n                        開獎實況轉播</a></li>\\r\\n                </ul>\\r\\n            </li>\\r\\n            <div class=\"dotted00\">\\r\\n            </div>\\r\\n            <li class=\"has_sub\"><a href=\"#\" onclick=\"window.parent.location.href=\\'/agencyap/login.asp\\';\">\\r\\n                經銷商專區</a>\\r\\n                <ul>\\r\\n\\t\\t\\t\\t\\t<li><a href=\"#\" onclick=\"window.parent.location.href=\\'/agencyap/financialLogin.aspx\\';\">紓困補助申請</a></li><div\\r\\n              \\t        class=\"dotted00_2\">\\r\\n                    </div>\\r\\n                    <li><a href=\"#\" onclick=\"window.parent.location.href=\\'/agencyap/news.asp\\';\">公告事項</a></li><div\\r\\n                        class=\"dotted00_2\">\\r\\n                    </div>\\r\\n                    <li><a href=\"#\" onclick=\"window.parent.location.href=\\'/agencyap/login.asp\\';\">經銷商登入</a></li><div\\r\\n                        class=\"dotted00_2\">\\r\\n                    </div>\\r\\n                    <!--li><a href=\"#\" onclick=\"window.parent.location.href=\\'/agencyap/agencyap_online_login.aspx\\';\">\\r\\n                        電腦型經銷商登入</a></li><div class=\"dotted00_2\">\\r\\n                        </div>\\r\\n                    <li><a href=\"#\" onclick=\"window.parent.location.href=\\'/agencyap/agencyap_instant_login.aspx\\';\">\\r\\n                        立即型經銷商登入</a></li><div class=\"dotted00_2\">\\r\\n                        </div-->\\r\\n                    <li><a href=\"#\" onclick=\"window.parent.location.href=\\'/agencyap/agency_se_login.aspx\\';\">\\r\\n                        批售兌獎處登入</a></li><div class=\"dotted00_2\">\\r\\n                        </div>\\r\\n                    <li><a href=\"#\" onclick=\"window.parent.location.href=\\'/agencyap/pinchhit.asp\\';\" >\\r\\n                        遞補順序</a></li><div class=\"dotted00_2\">\\r\\n                        </div>\\r\\n                    <li><a href=\"#\" onclick=\"window.parent.location.href=\\'agencyap/rules.asp\\';\">遴選及管理要點</a></li><div\\r\\n                        class=\"dotted00_2\">\\r\\n                    </div>\\r\\n                    <li><a href=\"#\" onclick=\"window.parent.location.href=\\'agencyap/join.asp\\';\">我想要賣刮刮樂</a></li><div\\r\\n                        class=\"dotted00_2\">\\r\\n                    </div>\\r\\n                    <!--li><a href=\"#\" onclick=\"window.parent.location.href=\\'/agencyap/online_audition.aspx\\';\">\\r\\n                        有意願擔任代理人查詢</a></li><div class=\"dotted00_2\">\\r\\n                        </div-->\\r\\n                </ul>\\r\\n            </li>\\r\\n\\t\\t\\t\\r\\n\\t\\t\\t\\r\\n\\t\\t\\t<div class=\"dotted00\">\\r\\n            </div>\\r\\n            <!--li class=\"has_sub\"><a href=\"#\" onclick=\"window.parent.location.href=\\'https://selection.taiwanlottery.com.tw\\';\">\\r\\n                電腦型經銷商遴選報名</a>\\r\\n\\t\\t\\t\\t                <ul>\\r\\n                    <li><a href=\"#\" onclick=\"window.parent.location.href=\\'https://selection.taiwanlottery.com.tw\\';\">電腦型經銷商遴選報名</a></li>\\r\\n\\t\\t\\t\\t\\t</ul>\\r\\n            </li>\\r\\n\\t\\t\\t\\r\\n\\t\\t\\t\\r\\n            <div class=\"dotted00\">\\r\\n            </div-->\\r\\n            <li class=\"has_sub\"><a href=\"#\" onclick=\"window.parent.location.href=\\'faq/faq.asp\\';\">\\r\\n                常見問答</a>\\r\\n                <ul>\\r\\n                    <li><a href=\"#\" onclick=\"window.parent.location.href=\\'faq/faq.asp\\';\">開獎</a></li><div\\r\\n                        class=\"dotted00_2\">\\r\\n                    </div>\\r\\n                    <li><a href=\"#\" onclick=\"window.parent.location.href=\\'faq/faq_faq01.asp\\';\">兌獎</a></li><div\\r\\n                        class=\"dotted00_2\">\\r\\n                    </div>\\r\\n                    <li><a href=\"#\" onclick=\"window.parent.location.href=\\'faq/faq_faq02.asp\\';\">彩券玩法</a></li><div\\r\\n                        class=\"dotted00_2\">\\r\\n                    </div>\\r\\n                    <li><a href=\"#\" onclick=\"window.parent.location.href=\\'faq/faq_faq03.asp\\';\">經銷商</a></li><div\\r\\n                        class=\"dotted00_2\">\\r\\n                    </div>\\r\\n                    <li><a href=\"#\" onclick=\"window.parent.location.href=\\'faq/faq_faq04.asp\\';\">稅賦與佣金</a></li>\\r\\n                </ul>\\r\\n            </li>\\r\\n            <div class=\"dotted00\">\\r\\n            </div>\\r\\n            <li class=\"has_sub\"><a href=\"#\" onclick=\"window.parent.location.href=\\'about/howtoplay.asp\\';\">\\r\\n                投注方式與兌獎</a>\\r\\n                <ul>\\r\\n                    <li><a href=\"#\" onclick=\"window.parent.location.href=\\'about/howtoplay.asp\\';\">投注方式</a></li><div\\r\\n                        class=\"dotted00_2\">\\r\\n                    </div>\\r\\n                    <li><a href=\"#\" onclick=\"window.parent.location.href=\\'Lotto/se/salelocation.aspx\\';\">\\r\\n                        銷售地點</a></li><div class=\"dotted00_2\">\\r\\n                        </div>\\r\\n                    <li><a href=\"#\" onclick=\"window.parent.location.href=\\'about/bonus.asp\\';\">如何兌領獎金</a></li><div\\r\\n                        class=\"dotted00_2\">\\r\\n                    </div>\\r\\n                    <li><a href=\"#\" onclick=\"window.parent.location.href=\\'Lotto/se/location.aspx\\';\">批售兌獎處</a></li>\\r\\n                </ul>\\r\\n            </li>\\r\\n            <div class=\"dotted00\">\\r\\n            </div>\\r\\n            <li class=\"has_sub\"><a href=\"#\" onclick=\"window.parent.location.href=\\'/info/welfare/profit.asp\\';\">\\r\\n                愛心公益</a>\\r\\n                <ul>\\r\\n                    <li><a href=\"#\" onclick=\"window.parent.location.href=\\'/info/welfare/profit.asp\\';\">\\r\\n                        公益彩券盈餘分配比率</a></li><div class=\"dotted00_2\">\\r\\n                        </div>\\r\\n                    <li><a href=\"#\" onclick=\"window.parent.location.href=\\'/info/welfare/welfare_profit4.aspx\\';\">\\r\\n                        公益彩券各直轄市、縣（市）\\u3000 政府盈餘分配撥付表</a></li>\\r\\n                    <li class=\"third_sub\"><a href=\"/3th_lottery_1230/info/welfare/profit2.aspx\">\\r\\n                        96-102年公益彩券盈餘分配表</a></li><div class=\"dotted00_2\">\\r\\n                        </div>\\r\\n                    <li><a href=\"#\" onclick=\"window.parent.location.href=\\'/info/welfare/welfare_profit5.aspx\\';\">公益彩券營業報告書簡表</a></li>\\r\\n                    <li class=\"third_sub\"><a href=\"/3th_lottery_1230/info/welfare/profit3.aspx\">\\r\\n                        96-102年營業報告書簡表</a></li><div class=\"dotted00_2\">\\r\\n                        </div>\\r\\n                </ul>\\r\\n            </li>\\r\\n            <div class=\"dotted00\">\\r\\n            </div>\\r\\n        </ul>\\r\\n    </div>\\r\\n  <div id=\"qrcode\">\\r\\n        <p>&nbsp;</p>\\r\\n        <p><img src=\"images/qrcode.png\"/>\\r\\n        </p>\\r\\n        <p>\\r\\n            &nbsp;&nbsp;&nbsp;&nbsp;&nbsp;&nbsp;&nbsp;&nbsp;&nbsp;&nbsp; 台灣彩券</p>\\r\\n        <br />\\r\\n</div>\\r\\n</body>\\r\\n</html>\\r\\n\\r\\n  </div>\\r\\n  <div id=\"right_top\">\\r\\n    <!--***************預估頭彩區塊***************-->\\r\\n    <div id=\"top_dollarbox\"> <img id=\"imgPowerLottery\" src=\"images/logo_totbox_01.jpg\" /> <img id=\"imgBigLottery\" src=\"images/logo_totbox_02.jpg\" />  <!--img id=\"imgFLottery\" src=\"images/logo_totbox_03.jpg\" /-->\\r\\n        \\r\\n        <img id=\"dodo01\" src=\"images/dodo.gif\" /> <img id=\"dodo02\" src=\"images/dodo.gif\" /> <img id=\"dodo03\" src=\"images/dodo.gif\" /> <img id=\"dodo04\" src=\"images/dodo.gif\" /> <img id=\"dodo05\" src=\"images/dodo.gif\" /> <img id=\"dodo06\" src=\"images/dodo.gif\" /><!--img id=\"dodo07\" src=\"images/dodo.gif\" /><img id=\"dodo08\" src=\"images/dodo.gif\" /><img id=\"dodo09\" src=\"images/dodo.gif\" /-->\\r\\n      <div class=\"dollar_right\">目前頭獎預估金額</div>\\r\\n      <div class=\"top_dollar_tx\">\\r\\n          <span id=\"lMoney38\">$</span>\\r\\n<!--***************威力彩***************-->\\r\\n    \\r\\n\\t\\t<div class=\"top_dollar\">0458408215</div>\\r\\n        \\r\\n      </div>\\r\\n      <!--ContentArea 威力彩預估金額 End-->\\r\\n      <br>\\r\\n      <hr/>\\r\\n      <div class=\"top_dollar_tx\">\\r\\n          <span id=\"lMoney49\">$</span>\\r\\n      <!--ContentArea 大樂透預估金額 Start-->\\r\\n        \\r\\n          <div class=\"top_dollar\">0100000000</div>\\r\\n        \\r\\n      </div>\\r\\n      <!--ContentArea 大樂透預估金額 End-->\\r\\n      <br>\\r\\n      <hr/>\\r\\n      <!--div class=\"top_dollar_tx\">$\\r\\n        <ContentArea 大福彩預估金額 Start>\\r\\n        <div class=\"top_dollar\">\\r\\n          \\r\\n        </div>\\r\\n      </div-->\\r\\n    </div>\\r\\n    <div id=\"right_side\">\\r\\n      <!-- *輪播區* -->\\r\\n      <div id=\"bannerSpan\" class=\"banner\"></div>\\r\\n   \\r\\n\\r\\n      <!-- *輪播區* -->\\r\\n    </div>\\r\\n    <!--***************最新消息區塊***************-->\\r\\n\\r\\n    <div id=\"top_news\">\\r\\n      <div class=\"top_news_title\">最新消息 <span class=\"font_glay10\">ＨＯＴ ＮＥＷＳ </span>\\r\\n        <div id=\"more_right\" class=\"font_glay10\"><a href=\"info/news/news.aspx\">more></a></div>\\r\\n      </div>\\r\\n      <hr size=\"2\" color=\"#FF0000\" style=\"margin-bottom:0px\"/>\\r\\n      <div class=\"font_glay14_indexNews\">\\r\\n        <ul>\\r\\n           <li style=  height:2px;padding:0;border:0;background-position:-300px 0;margin-top:0px!important;margin-top:-20px;  >\\r\\n         </li>\\r\\n         <li><a href=\"/news/DrawNumber.aspx\"  style= font-weight:bold; >\\r\\n           <span class=  date >\\r\\n           </span>最新開獎獎號一覽表</a></li>    \\r\\n           <li><a href=/news/IN1090514news_detail_590.asp><span class=  date  >[109/5/14]</span>財政部對受嚴重特殊傳染性肺炎影響發生營運困難公益彩券經銷商紓</a></li><li><a href=/news/IN1090514news_detail_589.asp><span class=  date  >[109/5/14]</span>立即型彩券「海底大尋寶」上市公告</a></li><li><a href=/news/IN1090505news_detail_588.asp><span class=  date  >[109/5/5]</span>刮刮樂「寵麻吉」Q萌登場 、「2020520」傳情上市</a></li><li><a href=/news/IN1090429news_detail_587.asp><span class=  date  >[109/4/29]</span>立即型彩券「寵麻吉」與「2020520」上市公告</a></li>\\r\\n        </ul>\\r\\n      </div>\\r\\n       <div class=\"top_news_title\">重點資訊 <span class=\"font_glay10\">ＡＮＮＯＵＮＣＥＭＥＮＴ </span>\\r\\n        <div id=\"Div1\" class=\"font_glay10\"></div>\\r\\n      </div>\\r\\n        <hr size=\"2\" color=\"#FF0000\"  style=\"margin-bottom:0px\"/>\\r\\n      <div class=\"font_glay14_indexNews\">\\r\\n        <ul>\\r\\n           <li style=  height:2px;padding:0;border:0;background-position:-300px 0;margin-top:0px!important;margin-top:-20px;  >\\r\\n          </li>          \\r\\n          <li><a href=\"/news/AS1080920news_detail_540.asp\"  >\\r\\n            <span class=  date  >\\r\\n            </span>公益彩券中獎獎金免稅門檻提高為新臺幣5,000元</a></li>\\r\\n\\t\\t\\t\\t\\t  \\r\\n          <li><a href=\"/news/ON1070904news_detail_431.asp\"  >\\r\\n            <span class=  date  >\\r\\n            </span>專業人士參觀本公司開獎電視台及開獎流程影音連結</a></li>\\r\\n  \\r\\n          <li><a href=\"/news/ON1050905news_detail_242.asp\"  >\\r\\n            <span class=  date  >\\r\\n            </span>台彩嚴正駁斥網路「開獎不實」傳聞</a></li>\\r\\n            \\r\\n        </ul>\\r\\n      </div>\\r\\n    </div>\\r\\n  </div>\\r\\n  <div id=\"rightdown\">\\r\\n    <!--***************BINGO BINGO**************-->\\r\\n    <div class=\"contents_box01\">\\r\\n      <div id=\"contents_logo_01\"> </div><div class=\"contents_mine_tx01\"><span class=\"font_black15\">109/5/15&nbsp;第109027502期 </span> <span class=\"font_red14\"><a href=\"/Lotto/BingoBingo/history.aspx\">開獎結果</a> ｜ <a href=\"/Lotto/BingoBingo/drawing.aspx\">各期獎號查詢</a><a href=\"/lotto/BingoBingo/OEHLStatistic.htm\"><div id=\"contents_logo_01-2\"></div></a></span></div><div class=\"contents_mine_tx04\">開出獎號</div><div class=\"ball_box01\"><div class=\"ball_tx ball_yellow\">02 </div><div class=\"ball_tx ball_yellow\">04 </div><div class=\"ball_tx ball_yellow\">05 </div><div class=\"ball_tx ball_yellow\">06 </div><div class=\"ball_tx ball_yellow\">09 </div><div class=\"ball_tx ball_yellow\">17 </div><div class=\"ball_tx ball_yellow\">20 </div><div class=\"ball_tx ball_yellow\">22 </div><div class=\"ball_tx ball_yellow\">27 </div><div class=\"ball_tx ball_yellow\">30 </div><div class=\"ball_tx ball_yellow\">36 </div><div class=\"ball_tx ball_yellow\">37 </div><div class=\"ball_tx ball_yellow\">46 </div><div class=\"ball_tx ball_yellow\">49 </div><div class=\"ball_tx ball_yellow\">59 </div><div class=\"ball_tx ball_yellow\">63 </div><div class=\"ball_tx ball_yellow\">76 </div><div class=\"ball_tx ball_yellow\">77 </div><div class=\"ball_tx ball_yellow\">78 </div><div class=\"ball_tx ball_yellow\">80 </div></div><div class=\"contents_mine_tx08\">&nbsp&nbsp超級<br>&nbsp&nbsp獎號<br><div class=\"ball_red\">04</div></div><div class=\"contents_mine_tx08\">&nbsp&nbsp&nbsp猜<br>&nbsp大&nbsp小<br><div class=\"ball_blue_BB1\">－</div></div><div class=\"contents_mine_tx08\">&nbsp&nbsp&nbsp猜<br>&nbsp單&nbsp雙<br><div class=\"ball_blue_BB2\">小雙</div></div>\\r\\n    </div>\\r\\n    <div class=\"dotted01\"></div>\\r\\n\\t <!--***************雙贏彩區塊***************-->\\r\\n    <div class=\"contents_box06\">\\r\\n      <div id=\"contents_logo_11\"></div><div class=\"contents_mine_tx09\"><span class=\"font_black15\">109/5/14&nbsp;第109000116期 </span><span class=\"font_red14\"><a href=\"Result_all.aspx#12\">開獎結果</a></span></div><div class=\"contents_mine_tx04\">開出順序<br>大小順序</div><div class=\"ball_tx ball_blue\">03 </div><div class=\"ball_tx ball_blue\">13 </div><div class=\"ball_tx ball_blue\">20 </div><div class=\"ball_tx ball_blue\">12 </div><div class=\"ball_tx ball_blue\">23 </div><div class=\"ball_tx ball_blue\">07 </div><div class=\"ball_tx ball_blue\">01 </div><div class=\"ball_tx ball_blue\">05 </div><div class=\"ball_tx ball_blue\">11 </div><div class=\"ball_tx ball_blue\">24 </div><div class=\"ball_tx ball_blue\">10 </div><div class=\"ball_tx ball_blue\">04 </div><div class=\"ball_tx ball_blue\">01 </div><div class=\"ball_tx ball_blue\">03 </div><div class=\"ball_tx ball_blue\">04 </div><div class=\"ball_tx ball_blue\">05 </div><div class=\"ball_tx ball_blue\">07 </div><div class=\"ball_tx ball_blue\">10 </div><div class=\"ball_tx ball_blue\">11 </div><div class=\"ball_tx ball_blue\">12 </div><div class=\"ball_tx ball_blue\">13 </div><div class=\"ball_tx ball_blue\">20 </div><div class=\"ball_tx ball_blue\">23 </div><div class=\"ball_tx ball_blue\">24 </div>\\r\\n    </div>\\r\\n    <div class=\"dotted01\"></div>\\r\\n    <!--***************威力彩區塊***************-->\\r\\n    <div class=\"contents_box02\">\\r\\n      <div id=\"contents_logo_02\"></div><div class=\"contents_mine_tx02\"><span class=\"font_black15\">109/5/14&nbsp;第109000039期 </span><span class=\"font_red14\"><a href=\"Result_all.aspx#01\">開獎結果</a></span></div><div class=\"contents_mine_tx04\">開出順序<br>大小順序<br>第二區</div><div class=\"ball_tx ball_green\">12 </div><div class=\"ball_tx ball_green\">24 </div><div class=\"ball_tx ball_green\">17 </div><div class=\"ball_tx ball_green\">35 </div><div class=\"ball_tx ball_green\">30 </div><div class=\"ball_tx ball_green\">34 </div><div class=\"ball_tx ball_green\">12 </div><div class=\"ball_tx ball_green\">17 </div><div class=\"ball_tx ball_green\">24 </div><div class=\"ball_tx ball_green\">30 </div><div class=\"ball_tx ball_green\">34 </div><div class=\"ball_tx ball_green\">35 </div><div class=\"ball_red\">02 </div>\\r\\n    </div>\\r\\n    <div class=\"dotted02\"></div>\\r\\n    <!--***************38樂合彩區塊***************-->\\r\\n    <div class=\"contents_box02\">\\r\\n      <div id=\"contents_logo_03\"></div><div class=\"contents_mine_tx02\"><span class=\"font_black15\">109/5/14&nbsp;第109000039期 </span><span class=\"font_red14\"><a href=\"Result_all.aspx#07\">開獎結果</a></span></div><div class=\"contents_mine_tx04\">開出順序<br>大小順序</div><div class=\"ball_tx ball_green\">12 </div><div class=\"ball_tx ball_green\">24 </div><div class=\"ball_tx ball_green\">17 </div><div class=\"ball_tx ball_green\">35 </div><div class=\"ball_tx ball_green\">30 </div><div class=\"ball_tx ball_green\">34 </div><div class=\"ball_tx ball_green\">12 </div><div class=\"ball_tx ball_green\">17 </div><div class=\"ball_tx ball_green\">24 </div><div class=\"ball_tx ball_green\">30 </div><div class=\"ball_tx ball_green\">34 </div><div class=\"ball_tx ball_green\">35 </div>\\r\\n    </div>\\r\\n    <div class=\"dotted01\"></div>\\r\\n    <!--***************大樂透區塊***************-->\\r\\n    <div class=\"contents_box02\">\\r\\n      <div id=\"contents_logo_04\"></div><div class=\"contents_mine_tx02\"><span class=\"font_black15\">109/5/12&nbsp;第109000046期 </span><span class=\"font_red14\"><a href=\"Result_all.aspx#02\">開獎結果</a></span></div><div class=\"contents_mine_tx04\">開出順序<br>大小順序<br>特別號</div><div class=\"ball_tx ball_yellow\">35 </div><div class=\"ball_tx ball_yellow\">01 </div><div class=\"ball_tx ball_yellow\">08 </div><div class=\"ball_tx ball_yellow\">36 </div><div class=\"ball_tx ball_yellow\">05 </div><div class=\"ball_tx ball_yellow\">11 </div><div class=\"ball_tx ball_yellow\">01 </div><div class=\"ball_tx ball_yellow\">05 </div><div class=\"ball_tx ball_yellow\">08 </div><div class=\"ball_tx ball_yellow\">11 </div><div class=\"ball_tx ball_yellow\">35 </div><div class=\"ball_tx ball_yellow\">36 </div><div class=\"ball_red\">26 </div>\\r\\n    </div>\\r\\n    <div class=\"dotted02\"></div>\\r\\n    <!--***************49樂合彩區塊***************-->\\r\\n    <div class=\"contents_box02\">\\r\\n      <div id=\"contents_logo_05\"></div><div class=\"contents_mine_tx02\"><span class=\"font_black15\">109/5/12&nbsp;第109000046期 </span><span class=\"font_red14\"><a href=\"Result_all.aspx#08\">開獎結果</a></span></div><div class=\"contents_mine_tx04\">開出順序<br>大小順序</div><div class=\"ball_tx ball_yellow\">35 </div><div class=\"ball_tx ball_yellow\">01 </div><div class=\"ball_tx ball_yellow\">08 </div><div class=\"ball_tx ball_yellow\">36 </div><div class=\"ball_tx ball_yellow\">05 </div><div class=\"ball_tx ball_yellow\">11 </div><div class=\"ball_tx ball_yellow\">01 </div><div class=\"ball_tx ball_yellow\">05 </div><div class=\"ball_tx ball_yellow\">08 </div><div class=\"ball_tx ball_yellow\">11 </div><div class=\"ball_tx ball_yellow\">35 </div><div class=\"ball_tx ball_yellow\">36 </div>\\r\\n    </div>\\r\\n    <div class=\"dotted01\"></div>\\r\\n    <!--***************大福彩區塊***************-->\\r\\n    <!--div class=\"contents_box05\">\\r\\n      \\r\\n    </div-->\\r\\n    <!--div class=\"dotted01\"></div-->\\r\\n    <!--**************今彩539區塊**************-->\\r\\n    <div class=\"contents_box03\">\\r\\n      <div id=\"contents_logo_06\"></div><div class=\"contents_mine_tx02\"><span class=\"font_black15\">109/5/14&nbsp;第109000116期 </span><span class=\"font_red14\"><a href=\"Result_all.aspx#03\">開獎結果</a></span></div><div class=\"contents_mine_tx04\">開出順序<br>大小順序</div><div class=\"ball_tx ball_lemon\">16 </div><div class=\"ball_tx ball_lemon\">11 </div><div class=\"ball_tx ball_lemon\">02 </div><div class=\"ball_tx ball_lemon\">17 </div><div class=\"ball_tx ball_lemon\">08 </div><div class=\"ball_tx\"></div><div class=\"ball_tx ball_lemon\">02 </div><div class=\"ball_tx ball_lemon\">08 </div><div class=\"ball_tx ball_lemon\">11 </div><div class=\"ball_tx ball_lemon\">16 </div><div class=\"ball_tx ball_lemon\">17 </div>\\r\\n    </div>\\r\\n    <div class=\"dotted03\"></div>\\r\\n    <!--**************39樂合彩區塊**************-->\\r\\n    <div class=\"contents_box03\">\\r\\n      <div id=\"contents_logo_07\"></div><div class=\"contents_mine_tx02\"><span class=\"font_black15\">109/5/14&nbsp;第109000116期 </span><span class=\"font_red14\"><a href=\"Result_all.aspx#09\">開獎結果</a></span></div><div class=\"contents_mine_tx04\">開出順序<br>大小順序</div><div class=\"ball_tx ball_lemon\">16 </div><div class=\"ball_tx ball_lemon\">11 </div><div class=\"ball_tx ball_lemon\">02 </div><div class=\"ball_tx ball_lemon\">17 </div><div class=\"ball_tx ball_lemon\">08 </div><div class=\"ball_tx\"></div><div class=\"ball_tx ball_lemon\">02 </div><div class=\"ball_tx ball_lemon\">08 </div><div class=\"ball_tx ball_lemon\">11 </div><div class=\"ball_tx ball_lemon\">16 </div><div class=\"ball_tx ball_lemon\">17 </div>\\r\\n    </div>\\r\\n    <div class=\"dotted01\"></div>\\r\\n    <!--**************3星彩區塊**************-->\\r\\n    <div class=\"contents_box04\">\\r\\n      <div id=\"contents_logo_08\"></div><div class=\"contents_mine_tx02\"><span class=\"font_black15\">109/5/14&nbsp;第109000116期 </span><span class=\"font_red14\"><a href=\"Result_all.aspx#05\">開獎結果</a></span></div><div class=\"contents_mine_tx04\">中獎號碼</div><div class=\"ball_tx ball_purple\">6</div><div class=\"ball_tx ball_purple\">3</div><div class=\"ball_tx ball_purple\">5</div>\\r\\n    </div>\\r\\n    <div class=\"dotted04\"></div>\\r\\n    <!--**************4星彩區塊**************-->\\r\\n    <div class=\"contents_box04\">\\r\\n      <div id=\"contents_logo_09\"></div><div class=\"contents_mine_tx02\"><span class=\"font_black15\">109/5/14&nbsp;第109000116期 </span><span class=\"font_red14\"><a href=\"Result_all.aspx#06\">開獎結果</a></span></div><div class=\"contents_mine_tx04\">中獎號碼</div><div class=\"ball_tx ball_purple\">3</div><div class=\"ball_tx ball_purple\">7</div><div class=\"ball_tx ball_purple\">9</div><div class=\"ball_tx ball_purple\">5</div>\\r\\n    </div>\\r\\n  </div>\\r\\n  <iframe src=\"fooder.asp\" width=\"1024\" height=\"70\" scrolling=\"no\"  frameborder=\"0\" > </iframe>\\r\\n</div>\\r\\n    </form>\\r\\n</body>\\r\\n</html>\\r\\n'"
      ]
     },
     "execution_count": 58,
     "metadata": {},
     "output_type": "execute_result"
    }
   ],
   "source": [
    "Taiwan_LOTTE.text"
   ]
  },
  {
   "cell_type": "code",
   "execution_count": 59,
   "metadata": {},
   "outputs": [],
   "source": [
    "Taiwan_LOTTE_Parsed = BeautifulSoup(Taiwan_LOTTE.text,'lxml')"
   ]
  },
  {
   "cell_type": "code",
   "execution_count": 60,
   "metadata": {},
   "outputs": [
    {
     "name": "stdout",
     "output_type": "stream",
     "text": [
      "<title>\r\n",
      "\t台灣彩券 taiwanlottery\r\n",
      "</title>\n"
     ]
    }
   ],
   "source": [
    "print(Taiwan_LOTTE_Parsed.title)"
   ]
  },
  {
   "cell_type": "code",
   "execution_count": 61,
   "metadata": {},
   "outputs": [
    {
     "name": "stdout",
     "output_type": "stream",
     "text": [
      "<div id=\"wrapper_overflow\">\n",
      "<iframe frameborder=\"0\" height=\"68\" scrolling=\"no\" src=\"header.asp\" width=\"1024\"> </iframe>\n",
      "<div id=\"left\">\n",
      "<!--***************刮刮樂 區塊***************-->\n",
      "<div id=\"left_top\">\n",
      "<div class=\"left_top_clicked\" id=\"left_top_btn01\" onclick=\"setClass(left_top_contents01,left_top_contents02,left_top_btn01,left_top_btn02);\">\r\n",
      "                    熱賣中</div>\n",
      "<div class=\"left_top_unclicked\" id=\"left_top_btn02\" onclick=\"setClass(left_top_contents02,left_top_contents01,left_top_btn02,left_top_btn01);\">\r\n",
      "                    預告</div>\n",
      "<div class=\"display_block\" id=\"left_top_contents01\">\n",
      "<iframe frameborder=\"0\" height=\"164px\" scrolling=\"yes\" src=\"index_onsale.html \" width=\"224px\">\n",
      "</iframe>\n",
      "</div>\n",
      "<div class=\"display_none\" id=\"left_top_contents02\">\n",
      "<iframe frameborder=\"0\" height=\"164px\" scrolling=\"yes\" src=\"index_coming.html\" width=\"224px\">\n",
      "</iframe>\n",
      "</div>\n",
      "</div>\n",
      "<!--***************開獎實況轉播電視圖***************-->\n",
      "<a href=\"https://fnc.ebc.net.tw/TaiwanLottery/\"> <img alt=\"TV\" src=\"images/twl_index_pic_TV.gif\"/></a>\n",
      "<!--***************2020防疫專區新增區域***************-->\n",
      "<p style=\"font-size:0px;height:2px;overflow:hidden;padding:0px;margin:5px;\"></p>\n",
      "<a href=\"prevent.asp\">\n",
      "<img alt=\"防疫專區\" border=\"0\" src=\"images/twl_index_banner_168.gif\"/></a>\n",
      "<p style=\"font-size:0px;height:2px;overflow:hidden;padding:0px;margin:5px;\"></p>\n",
      "<!--ContentArea 選單Start-->\n",
      "<!DOCTYPE html PUBLIC \"-//W3C//DTD XHTML 1.0 Transitional//EN\" \"http://www.w3.org/TR/xhtml1/DTD/xhtml1-transitional.dtd\">\n",
      "\n",
      "<link href=\"menu.css\" rel=\"stylesheet\" type=\"text/css\"/>\n",
      "<div id=\"nav\">\n",
      "<ul>\n",
      "<li class=\"has_sub\"><a href=\"#\" onclick=\"window.parent.location.href='about/tlc.asp';\">\r\n",
      "                關於台灣彩券</a>\n",
      "<ul>\n",
      "<li><a href=\"#\" onclick=\"window.parent.location.href='about/tlc.asp';\">認識台灣彩券</a></li><div class=\"dotted00_2\">\n",
      "</div>\n",
      "<li><a href=\"#\" onclick=\"window.parent.location.href='about/lottery.asp';\">認識公益彩券</a></li><div class=\"dotted00_2\">\n",
      "</div>\n",
      "<!--li><a href=\"#\" onclick=\"window.parent.location.href='about/CSR.asp';\">企業社會責任</a></li-->\n",
      "</ul>\n",
      "</li>\n",
      "<div class=\"dotted00\">\n",
      "</div>\n",
      "<li class=\"has_sub\"><a href=\"#\" onclick=\"window.parent.location.href='SuperLotto638/index.asp';\">\r\n",
      "                威力彩</a>\n",
      "<ul>\n",
      "<li class=\"img_logo01\"></li>\n",
      "<div class=\"dotted00_2\">\n",
      "</div>\n",
      "<li><a href=\"#\" onclick=\"window.parent.location.href='SuperLotto638/index.asp';\">\r\n",
      "                        遊戲介紹</a></li><div class=\"dotted00_2\">\n",
      "</div>\n",
      "<li><a href=\"#\" onclick=\"window.parent.location.href='lotto/superlotto638/history.aspx';\">\r\n",
      "                        各期獎號與開獎結果</a></li><div class=\"dotted00_2\">\n",
      "</div>\n",
      "<li><a href=\"#\" onclick=\"window.parent.location.href='/Lotto/se/store.aspx?TYPE=SL638';\">頭獎商店</a></li><div class=\"dotted00_2\">\n",
      "</div>\n",
      "<li><a href=\"#\" onclick=\"window.parent.location.href='SuperLotto638/schedule.asp';\">\r\n",
      "                        開獎時間</a></li><div class=\"dotted00_2\">\n",
      "</div>\n",
      "<li><a href=\"#\" onclick=\"window.parent.location.href='Info/number/frequency.aspx?GAME=SL638';\">\r\n",
      "                        冷熱門球號</a></li>\n",
      "</ul>\n",
      "</li>\n",
      "<div class=\"dotted00\">\n",
      "</div>\n",
      "<li class=\"has_sub\"><a href=\"#\" onclick=\"window.parent.location.href='Lotto649/index.asp';\">\r\n",
      "                大樂透</a>\n",
      "<ul>\n",
      "<li class=\"img_logo02\"></li>\n",
      "<div class=\"dotted00_2\">\n",
      "</div>\n",
      "<li><a href=\"#\" onclick=\"window.parent.location.href='Lotto649/index.asp';\">\r\n",
      "                        遊戲介紹</a></li><div class=\"dotted00_2\">\n",
      "</div>\n",
      "<li><a href=\"#\" onclick=\"window.parent.location.href='lotto/Lotto649/history.aspx';\">\r\n",
      "                        各期獎號與開獎結果</a></li><div class=\"dotted00_2\">\n",
      "</div>\n",
      "<li><a href=\"#\" onclick=\"window.parent.location.href='Lotto/se/store.aspx?TYPE=649';\">頭獎商店</a></li><div class=\"dotted00_2\">\n",
      "</div>\n",
      "<li><a href=\"#\" onclick=\"window.parent.location.href='Lotto649/schedule.asp';\">\r\n",
      "                        開獎時間</a></li><div class=\"dotted00_2\">\n",
      "</div>\n",
      "<li><a href=\"#\" onclick=\"window.parent.location.href='Info/number/frequency.aspx?GAME=649';\">\r\n",
      "                        冷熱門球號</a></li>\n",
      "</ul>\n",
      "</li>\n",
      "<!--div class=\"dotted00\">\r\n",
      "            </div>\r\n",
      "            <li class=\"has_sub\"><a href=\"#\" onclick=\"window.parent.location.href='Lotto740/index.asp';\">\r\n",
      "                大福彩</a>\r\n",
      "                <ul>\r\n",
      "                    <li class=\"img_logo11\"></li>\r\n",
      "                    <div class=\"dotted00_2\">\r\n",
      "                    </div>\r\n",
      "                    <li><a href=\"#\" onclick=\"window.parent.location.href='Lotto740/index.asp';\">\r\n",
      "                        遊戲介紹</a></li><div class=\"dotted00_2\">\r\n",
      "                        </div>\r\n",
      "                    <li><a href=\"#\" onclick=\"window.parent.location.href='lotto/Lotto740/history.aspx';\">\r\n",
      "                        各期獎號與開獎結果</a></li><div class=\"dotted00_2\">\r\n",
      "                        </div>\r\n",
      "                    <li><a href=\"#\" onclick=\"window.parent.location.href='Lotto/se/store.aspx?TYPE=740';\">頭獎商店</a></li><div\r\n",
      "                        class=\"dotted00_2\">\r\n",
      "                    </div>\r\n",
      "                    <li><a href=\"#\" onclick=\"window.parent.location.href='Lotto740/schedule.asp';\">\r\n",
      "                        開獎時間</a></li><div class=\"dotted00_2\">\r\n",
      "                        </div>\r\n",
      "                    <li><a href=\"#\" onclick=\"window.parent.location.href='Info/number/frequency.aspx?GAME=740';\">\r\n",
      "                        冷熱門球號</a></li>\r\n",
      "                </ul>\r\n",
      "            </li-->\n",
      "<div class=\"dotted00\">\n",
      "</div>\n",
      "<li class=\"has_sub\"><a href=\"#\" onclick=\"window.parent.location.href='DailyCash/index.asp';\">\r\n",
      "                今彩539</a>\n",
      "<ul>\n",
      "<li class=\"img_logo03\"></li>\n",
      "<div class=\"dotted00_2\">\n",
      "</div>\n",
      "<li><a href=\"#\" onclick=\"window.parent.location.href='DailyCash/index.asp';\">\r\n",
      "                        遊戲介紹</a></li><div class=\"dotted00_2\">\n",
      "</div>\n",
      "<li><a href=\"#\" onclick=\"window.parent.location.href='lotto/DailyCash/history.aspx';\">\r\n",
      "                        各期獎號與開獎結果</a></li><div class=\"dotted00_2\">\n",
      "</div>\n",
      "<li><a href=\"#\" onclick=\"window.parent.location.href='Lotto/se/store.aspx?TYPE=539';\">頭獎商店</a></li><div class=\"dotted00_2\">\n",
      "</div>\n",
      "<li><a href=\"#\" onclick=\"window.parent.location.href='DailyCash/schedule.asp';\">\r\n",
      "                        開獎時間</a></li><div class=\"dotted00_2\">\n",
      "</div>\n",
      "<li><a href=\"#\" onclick=\"window.parent.location.href='Info/number/frequency.aspx?GAME=539';\">\r\n",
      "                        冷熱門球號</a></li>\n",
      "</ul>\n",
      "</li>\n",
      "<div class=\"dotted00\">\n",
      "</div>\n",
      "<li class=\"has_sub\"><a href=\"#\" onclick=\"window.parent.location.href='Lotto1224/index.asp';\">\r\n",
      "                雙贏彩</a>\n",
      "<ul>\n",
      "<li class=\"img_logo12\"></li>\n",
      "<div class=\"dotted00_2\">\n",
      "</div>\n",
      "<li><a href=\"#\" onclick=\"window.parent.location.href='Lotto1224/index.asp';\">\r\n",
      "                        遊戲介紹</a></li><div class=\"dotted00_2\">\n",
      "</div>\n",
      "<li><a href=\"#\" onclick=\"window.parent.location.href='lotto/Lotto1224/history.aspx';\">\r\n",
      "                        各期獎號與開獎結果</a></li><div class=\"dotted00_2\">\n",
      "</div>\n",
      "<li><a href=\"#\" onclick=\"window.parent.location.href='Lotto/se/store.aspx?TYPE=1224';\">頭獎商店</a></li><div class=\"dotted00_2\">\n",
      "</div>\n",
      "<li><a href=\"#\" onclick=\"window.parent.location.href='Lotto1224/schedule.asp';\">\r\n",
      "                        開獎時間</a></li><div class=\"dotted00_2\">\n",
      "</div>\n",
      "<li><a href=\"#\" onclick=\"window.parent.location.href='Info/number/frequency.aspx?GAME=1224';\">\r\n",
      "                        冷熱門球號</a></li>\n",
      "</ul>\n",
      "</li>\n",
      "<div class=\"dotted00\">\n",
      "</div>\n",
      "<li class=\"has_sub\"><a href=\"#\" onclick=\"window.parent.location.href='BINGOBINGO/index.asp';\">\r\n",
      "                BINGO BINGO賓果賓果</a>\n",
      "<ul>\n",
      "<li class=\"img_logo04\"></li>\n",
      "<div class=\"dotted00_2\">\n",
      "</div>\n",
      "<li><a href=\"#\" onclick=\"window.parent.location.href='BINGOBINGO/index.asp';\">\r\n",
      "                        遊戲介紹</a></li><div class=\"dotted00_2\">\n",
      "</div>\n",
      "<li><a href=\"#\" onclick=\"window.parent.location.href='lotto/BINGOBINGO/drawing.aspx';\">\r\n",
      "                        各期獎號查詢</a></li><div class=\"dotted00_2\">\n",
      "</div>\n",
      "<li><a href=\"#\" onclick=\"window.parent.location.href='lotto/BINGOBINGO/history.aspx';\">\r\n",
      "                        各期獎金分配查詢</a></li><div class=\"dotted00_2\">\n",
      "</div>\n",
      "<li><a href=\"#\" onclick=\"window.parent.location.href='Lotto/BINGOBINGO/store.aspx';\">10星商店</a></li><div class=\"dotted00_2\">\n",
      "</div>\n",
      "<li><a href=\"#\" onclick=\"window.parent.location.href='BINGOBINGO/schedule.asp';\">\r\n",
      "                        開獎時間</a></li><div class=\"dotted00_2\">\n",
      "</div>\n",
      "<li><a href=\"#\" onclick=\"window.parent.location.href='Info/number/frequency.aspx?GAME=BB';\">\r\n",
      "                        冷熱門球號</a></li>\n",
      "</ul>\n",
      "</li>\n",
      "<div class=\"dotted00\">\n",
      "</div>\n",
      "<li class=\"has_sub\"><a href=\"#\" onclick=\"window.parent.location.href='3D/index.asp';\">\r\n",
      "                3星彩</a>\n",
      "<ul>\n",
      "<li class=\"img_logo05\"></li>\n",
      "<div class=\"dotted00_2\">\n",
      "</div>\n",
      "<li><a href=\"#\" onclick=\"window.parent.location.href='3D/index.asp';\">遊戲介紹</a></li><div class=\"dotted00_2\">\n",
      "</div>\n",
      "<li><a href=\"#\" onclick=\"window.parent.location.href='lotto/3D/history.aspx';\">各期獎號與開獎結果</a></li><div class=\"dotted00_2\">\n",
      "</div>\n",
      "<li><a href=\"#\" onclick=\"window.parent.location.href='3D/schedule.asp';\">開獎時間</a></li><div class=\"dotted00_2\">\n",
      "</div>\n",
      "<li><a href=\"#\" onclick=\"window.parent.location.href='Info/number/frequency.aspx?GAME=3D';\">\r\n",
      "                        冷熱門球號</a></li>\n",
      "</ul>\n",
      "</li>\n",
      "<div class=\"dotted00\">\n",
      "</div>\n",
      "<li class=\"has_sub\"><a href=\"#\" onclick=\"window.parent.location.href='4D/index.asp';\">\r\n",
      "                4星彩</a>\n",
      "<ul>\n",
      "<li class=\"img_logo06\"></li>\n",
      "<div class=\"dotted00_2\">\n",
      "</div>\n",
      "<li><a href=\"#\" onclick=\"window.parent.location.href='4D/index.asp';\">遊戲介紹</a></li><div class=\"dotted00_2\">\n",
      "</div>\n",
      "<li><a href=\"#\" onclick=\"window.parent.location.href='lotto/4D/history.aspx';\">各期獎號與開獎結果</a></li><div class=\"dotted00_2\">\n",
      "</div>\n",
      "<li><a href=\"#\" onclick=\"window.parent.location.href='4D/schedule.asp';\">開獎時間</a></li><div class=\"dotted00_2\">\n",
      "</div>\n",
      "<li><a href=\"#\" onclick=\"window.parent.location.href='Info/number/frequency.aspx?GAME=4D';\">\r\n",
      "                        冷熱門球號</a></li>\n",
      "</ul>\n",
      "</li>\n",
      "<div class=\"dotted00\">\n",
      "</div>\n",
      "<li class=\"has_sub\"><a href=\"#\" onclick=\"window.parent.location.href='38M6/index.asp';\">\r\n",
      "                38樂合彩</a>\n",
      "<ul>\n",
      "<li class=\"img_logo07\"></li>\n",
      "<div class=\"dotted00_2\">\n",
      "</div>\n",
      "<li><a href=\"#\" onclick=\"window.parent.location.href='38M6/index.asp';\">遊戲介紹</a></li><div class=\"dotted00_2\">\n",
      "</div>\n",
      "<li><a href=\"#\" onclick=\"window.parent.location.href='lotto/38M6/history.aspx';\">\r\n",
      "                        各期獎號與開獎結果</a></li><div class=\"dotted00_2\">\n",
      "</div>\n",
      "<li><a href=\"#\" onclick=\"window.parent.location.href='38M6/schedule.asp';\">開獎時間</a></li><div class=\"dotted00_2\">\n",
      "</div>\n",
      "<li><a href=\"#\" onclick=\"window.parent.location.href='Info/number/frequency.aspx?GAME=38';\">\r\n",
      "                        冷熱門球號</a></li>\n",
      "</ul>\n",
      "</li>\n",
      "<div class=\"dotted00\">\n",
      "</div>\n",
      "<li class=\"has_sub\"><a href=\"#\" onclick=\"window.parent.location.href='49M6/index.asp';\">\r\n",
      "                49樂合彩</a>\n",
      "<ul>\n",
      "<li class=\"img_logo08\"></li>\n",
      "<div class=\"dotted00_2\">\n",
      "</div>\n",
      "<li><a href=\"#\" onclick=\"window.parent.location.href='49M6/index.asp';\">遊戲介紹</a></li><div class=\"dotted00_2\">\n",
      "</div>\n",
      "<li><a href=\"#\" onclick=\"window.parent.location.href='lotto/49M6/history.aspx';\">\r\n",
      "                        各期獎號與開獎結果</a></li><div class=\"dotted00_2\">\n",
      "</div>\n",
      "<li><a href=\"#\" onclick=\"window.parent.location.href='49M6/schedule.asp';\">開獎時間</a></li><div class=\"dotted00_2\">\n",
      "</div>\n",
      "<li><a href=\"#\" onclick=\"window.parent.location.href='Info/number/frequency.aspx?GAME=49';\">\r\n",
      "                        冷熱門球號</a></li>\n",
      "</ul>\n",
      "</li>\n",
      "<div class=\"dotted00\">\n",
      "</div>\n",
      "<li class=\"has_sub\"><a href=\"#\" onclick=\"window.parent.location.href='39M5/index.asp';\">\r\n",
      "                39樂合彩</a>\n",
      "<ul>\n",
      "<li class=\"img_logo09\"></li>\n",
      "<div class=\"dotted00_2\">\n",
      "</div>\n",
      "<li><a href=\"#\" onclick=\"window.parent.location.href='39M5/index.asp';\">遊戲介紹</a></li><div class=\"dotted00_2\">\n",
      "</div>\n",
      "<li><a href=\"#\" onclick=\"window.parent.location.href='lotto/39M5/history.aspx';\">各期獎號與開獎結果</a></li><div class=\"dotted00_2\">\n",
      "</div>\n",
      "<li><a href=\"#\" onclick=\"window.parent.location.href='39M5/schedule.asp';\">開獎時間</a></li><div class=\"dotted00_2\">\n",
      "</div>\n",
      "<li><a href=\"#\" onclick=\"window.parent.location.href='Info/number/frequency.aspx?GAME=39';\">\r\n",
      "                        冷熱門球號</a></li>\n",
      "</ul>\n",
      "</li>\n",
      "<div class=\"dotted00\">\n",
      "</div>\n",
      "<li class=\"has_sub\"><a href=\"#\">\r\n",
      "                「加開獎項」加碼活動專區</a>\n",
      "<ul>\n",
      "<li><a href=\"#\" onclick=\"window.parent.location.href='/BigRedPacket2020/BigRedPacket109.asp';\">109年春節加碼活動辦法</a></li><div class=\"dotted00_2\">\n",
      "</div>\n",
      "<li>各期獎號與開獎結果</li>\n",
      "<li class=\"third_sub\"><a href=\"/lotto/AnnualGreatEvent/BigRedPacket2020/bigred_index109.aspx\">\r\n",
      "                        109年春節加碼</a></li>\n",
      "<li class=\"third_sub\"><a href=\"/lotto/AnnualGreatEvent/MoonFestival2019/MoonFestival2019_index.aspx\">\r\n",
      "                        108年中秋加碼</a></li>\n",
      "<li class=\"third_sub\"><a href=\"/lotto/AnnualGreatEvent/DragonBoatFestival2019/DragonBoat2019_index.aspx\">\r\n",
      "                        108年端午加碼</a></li>\n",
      "<li class=\"third_sub\"><a href=\"/lotto/AnnualGreatEvent/BigRedPacket2019/bigred_index108.aspx\">\r\n",
      "                        108年春節加碼</a></li>\n",
      "<li class=\"third_sub\"><a href=\"/lotto/AnnualGreatEvent/MoonFestival2018/MoonFestival_index107.aspx\">\r\n",
      "                        107年中秋加碼</a></li>\n",
      "<li class=\"third_sub\"><a href=\"/lotto/AnnualGreatEvent/DragonBoatFestival2018/DragonBoatFestival2018index.aspx\">\r\n",
      "                        107年端午加碼</a></li>\n",
      "<li class=\"third_sub\"><a href=\"/lotto/AnnualGreatEvent/BigRedPacket2018/bigred_index_result107.aspx\">\r\n",
      "                        107年春節加碼</a></li>\n",
      "<li class=\"third_sub\"><a href=\"/lotto/AnnualGreatEvent/MoonFestival2017/MoonFestival2017index.aspx\">\r\n",
      "                        106年中秋加碼</a></li>\n",
      "<li class=\"third_sub\"><a href=\"/lotto/AnnualGreatEvent/DragonBoatFestival2017/bigred_index106.aspx\">\r\n",
      "                        106年端午加碼</a></li>\n",
      "<li class=\"third_sub\"><a href=\"/lotto/AnnualGreatEvent/BigRedPacket2017/bigred_index_result106.aspx\">\r\n",
      "                        106年春節加碼</a></li>\n",
      "<li class=\"third_sub\"><a href=\"/lotto/DoubleTen2016/DoubleTen2016index.aspx\">\r\n",
      "                        105年雙十國慶加碼</a></li>\n",
      "<li class=\"third_sub\"><a href=\"/lotto/DBF/DragonBoatFestival2016index.aspx\">\r\n",
      "                        105年端午加碼</a></li>\n",
      "<li class=\"third_sub\"><a href=\"/lotto/AnnualGreatEvent/BigRedPacket2016/bigred_index_result105.aspx\">\r\n",
      "                        105年春節加碼</a></li>\n",
      "<li class=\"third_sub\"><a href=\"/lotto/AnnualGreatEvent/BigRedPacket2015/bigred_index_result.aspx\">\r\n",
      "                        104年春節加碼</a></li>\n",
      "<li class=\"third_sub\"><a href=\"/lotto/AnnualGreatEvent/BigRedPacket2014/bigred_index_result.aspx\">\r\n",
      "                        103年春節加碼</a></li>\n",
      "<!--li><a href=\"#\" onclick=\"window.parent.location.href='http://www.taiwanlottery.com.tw/lotto/AnnualGreatEvent/BigRedPacket2014/bigred_index_result.aspx';\">\r\n",
      "                        各期獎號與開獎結果 </a></li-->\n",
      "<div class=\"dotted00_2\">\n",
      "</div>\n",
      "</ul>\n",
      "</li>\n",
      "<div class=\"dotted00\">\n",
      "</div>\n",
      "<li class=\"has_sub\"><a href=\"#\" onclick=\"window.parent.location.href='instant/index.asp';\">\r\n",
      "                刮刮樂</a>\n",
      "<ul>\n",
      "<li class=\"img_logo10\"></li>\n",
      "<div class=\"dotted00_2\">\n",
      "</div>\n",
      "<li><a href=\"#\" onclick=\"window.parent.location.href='instant/index.asp';\">刮刮樂介紹</a></li><div class=\"dotted00_2\">\n",
      "</div>\n",
      "<li><a href=\"#\" onclick=\"window.parent.location.href='instant/games.asp';\">熱賣中刮刮樂</a></li><div class=\"dotted00_2\">\n",
      "</div>\n",
      "<li><a href=\"#\" onclick=\"window.parent.location.href='instant/preview.asp';\">\r\n",
      "                        刮刮樂預告</a></li><div class=\"dotted00_2\">\n",
      "</div>\n",
      "<li><a href=\"#\" onclick=\"window.parent.location.href='info/instant/sale.aspx';\">刮刮樂銷售資訊</a></li>\n",
      "</ul>\n",
      "</li>\n",
      "<div class=\"dotted00\">\n",
      "</div>\n",
      "<li class=\"has_sub\"><a href=\"#\" onclick=\"window.parent.location.href='info/news/news.aspx';\">\r\n",
      "                新聞及公告</a>\n",
      "<ul>\n",
      "<li><a href=\"#\" onclick=\"window.parent.location.href='info/news/news.aspx';\">新聞發佈</a></li><div class=\"dotted00_2\">\n",
      "</div>\n",
      "<li><a href=\"#\" onclick=\"window.parent.location.href='info/info/info.aspx';\">公告事項</a></li>\n",
      "</ul>\n",
      "</li>\n",
      "<div class=\"dotted00\">\n",
      "</div>\n",
      "<li class=\"has_sub\"><a href=\"#\">\r\n",
      "                彩券資訊通</a>\n",
      "<ul class=\"info_lotto_reloc\">\n",
      "<li><a href=\"#\" onclick=\"window.parent.location.href='info/lotto/data_SL638.aspx';\">威力彩統計資料</a></li><div class=\"dotted00_2\">\n",
      "</div>\n",
      "<li><a href=\"#\" onclick=\"window.parent.location.href='info/lotto/data_649.aspx';\">大樂透統計資料</a></li><div class=\"dotted00_2\">\n",
      "</div>\n",
      "<!--li><a href=\"#\" onclick=\"window.parent.location.href='info/lotto/data_740.aspx';\">大福彩統計資料</a></li><div class=\"dotted00_2\">\r\n",
      "                    </div-->\n",
      "<li><a href=\"#\" onclick=\"window.parent.location.href='info/lotto/data_539.aspx';\">今彩539統計資料</a></li><div class=\"dotted00_2\">\n",
      "</div>\n",
      "<li><a href=\"#\" onclick=\"window.parent.location.href='info/lotto/data_1224.aspx';\">雙贏彩統計資料</a></li><div class=\"dotted00_2\">\n",
      "</div>\n",
      "<li><a href=\"#\" onclick=\"window.parent.location.href='info/download_history.asp';\">第4屆各期獎號下載</a></li><div class=\"dotted00_2\">\n",
      "</div>\n",
      "<li>第4屆下市遊戲各期獎號</li>\n",
      "<li class=\"third_sub\"><a href=\"/Lotto/Lotto740/history.aspx\">\r\n",
      "                        大福彩</a></li>\n",
      "<li>96-102年各期獎號</li>\n",
      "<li class=\"third_sub\"><a href=\"/3th_lotto/SuperLotto638/history.aspx\">\r\n",
      "                        威力彩</a></li>\n",
      "<li class=\"third_sub\"><a href=\"/3th_lotto/lotto649/history.aspx\">\r\n",
      "                        大樂透</a></li>\n",
      "<!--li class=\"third_sub\"><a href=\"/3th_lotto/BingoBingo/drawing.aspx\">\r\n",
      "                        BINGO BINGO賓果賓果</a></li-->\n",
      "<li class=\"third_sub\"><a href=\"/3th_lotto/DailyCash/history.aspx\">\r\n",
      "                        今彩539</a></li>\n",
      "<li class=\"third_sub\"><a href=\"/3th_lotto/3D/history.aspx\">\r\n",
      "                        3星彩</a></li>\n",
      "<li class=\"third_sub\"><a href=\"/3th_lotto/4D/history.aspx\">\r\n",
      "                        4星彩</a></li>\n",
      "<li class=\"third_sub\"><a href=\"/3th_lotto/38M6/history.aspx\">\r\n",
      "                        38樂合彩</a></li>\n",
      "<li class=\"third_sub\"><a href=\"/3th_lotto/49M6/history.aspx\">\r\n",
      "                        49樂合彩</a></li>\n",
      "<li class=\"third_sub\"><a href=\"/3th_lotto/39M5/history.aspx\">\r\n",
      "                        39樂合彩</a></li>\n",
      "<li class=\"third_sub\"><a href=\"/3th_lotto/AnnualGreatEvent2013/Result_allAnnual2013.aspx\">\r\n",
      "                        102年「春節大紅包」獎號<br/>\r\n",
      "                        與開獎結果</a></li>\n",
      "<li class=\"third_sub\"><a href=\"/3th_lotto/AnnualGreatEvent/result_allAnnual2012.aspx\">\r\n",
      "                        101年龍年新春加碼「大紅包」<br/>\r\n",
      "                        獎號與開獎結果</a></li>\n",
      "<li class=\"third_sub\"><a href=\"/3th_lotto/mega/result_all.aspx\">\r\n",
      "                        100年「100組百萬獎金」獎號<br/>\r\n",
      "                        與開獎結果</a></li>\n",
      "<li class=\"third_sub\"><a href=\"/3th_lotto/TTT/history.aspx\">\r\n",
      "                        樂線九宮格</a></li>\n",
      "<li class=\"third_sub\"><a href=\"http://www.taiwanlottery.com.tw/3th_Lotto/Lotto638/history.aspx\">\r\n",
      "                        6/38樂透彩</a></li><div class=\"dotted00_2\"></div>\n",
      "<li><a href=\"#\" onclick=\"window.parent.location.href='/3th_lottery_1230/info/instant/sale.aspx';\">96-102年刮刮樂銷售資訊</a></li>\n",
      "</ul>\n",
      "</li>\n",
      "<div class=\"dotted00\">\n",
      "</div>\n",
      "<li class=\"has_sub\"><a href=\"#\" onclick=\"window.parent.location.href='runlottery/runlottery.asp';\">\r\n",
      "                開獎專區</a>\n",
      "<ul>\n",
      "<li><a href=\"#\" onclick=\"window.parent.location.href='runlottery/runlottery.asp';\">\r\n",
      "                        開獎流程</a></li><div class=\"dotted00_2\">\n",
      "</div>\n",
      "<li><a href=\"#\" onclick=\"window.parent.location.href='runlottery/schedule.asp';\">\r\n",
      "                        開獎時間</a></li><div class=\"dotted00_2\">\n",
      "</div>\n",
      "<li><a href=\"#\" onclick=\"window.parent.location.href='faq/faq.asp';\">開獎問與答</a></li><div class=\"dotted00_2\">\n",
      "</div>\n",
      "<li><a href=\"#\" onclick=\"window.parent.location.href='https://www.youtube.com/channel/UCK1Zh_2KvKKFkDBCSYuLjAw';\">\r\n",
      "                        開獎實況轉播</a></li>\n",
      "</ul>\n",
      "</li>\n",
      "<div class=\"dotted00\">\n",
      "</div>\n",
      "<li class=\"has_sub\"><a href=\"#\" onclick=\"window.parent.location.href='/agencyap/login.asp';\">\r\n",
      "                經銷商專區</a>\n",
      "<ul>\n",
      "<li><a href=\"#\" onclick=\"window.parent.location.href='/agencyap/financialLogin.aspx';\">紓困補助申請</a></li><div class=\"dotted00_2\">\n",
      "</div>\n",
      "<li><a href=\"#\" onclick=\"window.parent.location.href='/agencyap/news.asp';\">公告事項</a></li><div class=\"dotted00_2\">\n",
      "</div>\n",
      "<li><a href=\"#\" onclick=\"window.parent.location.href='/agencyap/login.asp';\">經銷商登入</a></li><div class=\"dotted00_2\">\n",
      "</div>\n",
      "<!--li><a href=\"#\" onclick=\"window.parent.location.href='/agencyap/agencyap_online_login.aspx';\">\r\n",
      "                        電腦型經銷商登入</a></li><div class=\"dotted00_2\">\r\n",
      "                        </div>\r\n",
      "                    <li><a href=\"#\" onclick=\"window.parent.location.href='/agencyap/agencyap_instant_login.aspx';\">\r\n",
      "                        立即型經銷商登入</a></li><div class=\"dotted00_2\">\r\n",
      "                        </div-->\n",
      "<li><a href=\"#\" onclick=\"window.parent.location.href='/agencyap/agency_se_login.aspx';\">\r\n",
      "                        批售兌獎處登入</a></li><div class=\"dotted00_2\">\n",
      "</div>\n",
      "<li><a href=\"#\" onclick=\"window.parent.location.href='/agencyap/pinchhit.asp';\">\r\n",
      "                        遞補順序</a></li><div class=\"dotted00_2\">\n",
      "</div>\n",
      "<li><a href=\"#\" onclick=\"window.parent.location.href='agencyap/rules.asp';\">遴選及管理要點</a></li><div class=\"dotted00_2\">\n",
      "</div>\n",
      "<li><a href=\"#\" onclick=\"window.parent.location.href='agencyap/join.asp';\">我想要賣刮刮樂</a></li><div class=\"dotted00_2\">\n",
      "</div>\n",
      "<!--li><a href=\"#\" onclick=\"window.parent.location.href='/agencyap/online_audition.aspx';\">\r\n",
      "                        有意願擔任代理人查詢</a></li><div class=\"dotted00_2\">\r\n",
      "                        </div-->\n",
      "</ul>\n",
      "</li>\n",
      "<div class=\"dotted00\">\n",
      "</div>\n",
      "<!--li class=\"has_sub\"><a href=\"#\" onclick=\"window.parent.location.href='https://selection.taiwanlottery.com.tw';\">\r\n",
      "                電腦型經銷商遴選報名</a>\r\n",
      "\t\t\t\t                <ul>\r\n",
      "                    <li><a href=\"#\" onclick=\"window.parent.location.href='https://selection.taiwanlottery.com.tw';\">電腦型經銷商遴選報名</a></li>\r\n",
      "\t\t\t\t\t</ul>\r\n",
      "            </li>\r\n",
      "\t\t\t\r\n",
      "\t\t\t\r\n",
      "            <div class=\"dotted00\">\r\n",
      "            </div-->\n",
      "<li class=\"has_sub\"><a href=\"#\" onclick=\"window.parent.location.href='faq/faq.asp';\">\r\n",
      "                常見問答</a>\n",
      "<ul>\n",
      "<li><a href=\"#\" onclick=\"window.parent.location.href='faq/faq.asp';\">開獎</a></li><div class=\"dotted00_2\">\n",
      "</div>\n",
      "<li><a href=\"#\" onclick=\"window.parent.location.href='faq/faq_faq01.asp';\">兌獎</a></li><div class=\"dotted00_2\">\n",
      "</div>\n",
      "<li><a href=\"#\" onclick=\"window.parent.location.href='faq/faq_faq02.asp';\">彩券玩法</a></li><div class=\"dotted00_2\">\n",
      "</div>\n",
      "<li><a href=\"#\" onclick=\"window.parent.location.href='faq/faq_faq03.asp';\">經銷商</a></li><div class=\"dotted00_2\">\n",
      "</div>\n",
      "<li><a href=\"#\" onclick=\"window.parent.location.href='faq/faq_faq04.asp';\">稅賦與佣金</a></li>\n",
      "</ul>\n",
      "</li>\n",
      "<div class=\"dotted00\">\n",
      "</div>\n",
      "<li class=\"has_sub\"><a href=\"#\" onclick=\"window.parent.location.href='about/howtoplay.asp';\">\r\n",
      "                投注方式與兌獎</a>\n",
      "<ul>\n",
      "<li><a href=\"#\" onclick=\"window.parent.location.href='about/howtoplay.asp';\">投注方式</a></li><div class=\"dotted00_2\">\n",
      "</div>\n",
      "<li><a href=\"#\" onclick=\"window.parent.location.href='Lotto/se/salelocation.aspx';\">\r\n",
      "                        銷售地點</a></li><div class=\"dotted00_2\">\n",
      "</div>\n",
      "<li><a href=\"#\" onclick=\"window.parent.location.href='about/bonus.asp';\">如何兌領獎金</a></li><div class=\"dotted00_2\">\n",
      "</div>\n",
      "<li><a href=\"#\" onclick=\"window.parent.location.href='Lotto/se/location.aspx';\">批售兌獎處</a></li>\n",
      "</ul>\n",
      "</li>\n",
      "<div class=\"dotted00\">\n",
      "</div>\n",
      "<li class=\"has_sub\"><a href=\"#\" onclick=\"window.parent.location.href='/info/welfare/profit.asp';\">\r\n",
      "                愛心公益</a>\n",
      "<ul>\n",
      "<li><a href=\"#\" onclick=\"window.parent.location.href='/info/welfare/profit.asp';\">\r\n",
      "                        公益彩券盈餘分配比率</a></li><div class=\"dotted00_2\">\n",
      "</div>\n",
      "<li><a href=\"#\" onclick=\"window.parent.location.href='/info/welfare/welfare_profit4.aspx';\">\r\n",
      "                        公益彩券各直轄市、縣（市）　 政府盈餘分配撥付表</a></li>\n",
      "<li class=\"third_sub\"><a href=\"/3th_lottery_1230/info/welfare/profit2.aspx\">\r\n",
      "                        96-102年公益彩券盈餘分配表</a></li><div class=\"dotted00_2\">\n",
      "</div>\n",
      "<li><a href=\"#\" onclick=\"window.parent.location.href='/info/welfare/welfare_profit5.aspx';\">公益彩券營業報告書簡表</a></li>\n",
      "<li class=\"third_sub\"><a href=\"/3th_lottery_1230/info/welfare/profit3.aspx\">\r\n",
      "                        96-102年營業報告書簡表</a></li><div class=\"dotted00_2\">\n",
      "</div>\n",
      "</ul>\n",
      "</li>\n",
      "<div class=\"dotted00\">\n",
      "</div>\n",
      "</ul>\n",
      "</div>\n",
      "<div id=\"qrcode\">\n",
      "<p> </p>\n",
      "<p><img src=\"images/qrcode.png\"/>\n",
      "</p>\n",
      "<p>\r\n",
      "                       台灣彩券</p>\n",
      "<br/>\n",
      "</div>\n",
      "</div>\n",
      "<div id=\"right_top\">\n",
      "<!--***************預估頭彩區塊***************-->\n",
      "<div id=\"top_dollarbox\"> <img id=\"imgPowerLottery\" src=\"images/logo_totbox_01.jpg\"/> <img id=\"imgBigLottery\" src=\"images/logo_totbox_02.jpg\"/> <!--img id=\"imgFLottery\" src=\"images/logo_totbox_03.jpg\" /-->\n",
      "<img id=\"dodo01\" src=\"images/dodo.gif\"/> <img id=\"dodo02\" src=\"images/dodo.gif\"/> <img id=\"dodo03\" src=\"images/dodo.gif\"/> <img id=\"dodo04\" src=\"images/dodo.gif\"/> <img id=\"dodo05\" src=\"images/dodo.gif\"/> <img id=\"dodo06\" src=\"images/dodo.gif\"/><!--img id=\"dodo07\" src=\"images/dodo.gif\" /><img id=\"dodo08\" src=\"images/dodo.gif\" /><img id=\"dodo09\" src=\"images/dodo.gif\" /-->\n",
      "<div class=\"dollar_right\">目前頭獎預估金額</div>\n",
      "<div class=\"top_dollar_tx\">\n",
      "<span id=\"lMoney38\">$</span>\n",
      "<!--***************威力彩***************-->\n",
      "<div class=\"top_dollar\">0458408215</div>\n",
      "</div>\n",
      "<!--ContentArea 威力彩預估金額 End-->\n",
      "<br/>\n",
      "<hr/>\n",
      "<div class=\"top_dollar_tx\">\n",
      "<span id=\"lMoney49\">$</span>\n",
      "<!--ContentArea 大樂透預估金額 Start-->\n",
      "<div class=\"top_dollar\">0100000000</div>\n",
      "</div>\n",
      "<!--ContentArea 大樂透預估金額 End-->\n",
      "<br/>\n",
      "<hr/>\n",
      "<!--div class=\"top_dollar_tx\">$\r\n",
      "        <ContentArea 大福彩預估金額 Start>\r\n",
      "        <div class=\"top_dollar\">\r\n",
      "          \r\n",
      "        </div>\r\n",
      "      </div-->\n",
      "</div>\n",
      "<div id=\"right_side\">\n",
      "<!-- *輪播區* -->\n",
      "<div class=\"banner\" id=\"bannerSpan\"></div>\n",
      "<!-- *輪播區* -->\n",
      "</div>\n",
      "<!--***************最新消息區塊***************-->\n",
      "<div id=\"top_news\">\n",
      "<div class=\"top_news_title\">最新消息 <span class=\"font_glay10\">ＨＯＴ ＮＥＷＳ </span>\n",
      "<div class=\"font_glay10\" id=\"more_right\"><a href=\"info/news/news.aspx\">more&gt;</a></div>\n",
      "</div>\n",
      "<hr color=\"#FF0000\" size=\"2\" style=\"margin-bottom:0px\"/>\n",
      "<div class=\"font_glay14_indexNews\">\n",
      "<ul>\n",
      "<li style=\"height:2px;padding:0;border:0;background-position:-300px\">\n",
      "</li>\n",
      "<li><a href=\"/news/DrawNumber.aspx\" style=\"font-weight:bold;\">\n",
      "<span class=\"date\">\n",
      "</span>最新開獎獎號一覽表</a></li>\n",
      "<li><a href=\"/news/IN1090514news_detail_590.asp\"><span class=\"date\">[109/5/14]</span>財政部對受嚴重特殊傳染性肺炎影響發生營運困難公益彩券經銷商紓</a></li><li><a href=\"/news/IN1090514news_detail_589.asp\"><span class=\"date\">[109/5/14]</span>立即型彩券「海底大尋寶」上市公告</a></li><li><a href=\"/news/IN1090505news_detail_588.asp\"><span class=\"date\">[109/5/5]</span>刮刮樂「寵麻吉」Q萌登場 、「2020520」傳情上市</a></li><li><a href=\"/news/IN1090429news_detail_587.asp\"><span class=\"date\">[109/4/29]</span>立即型彩券「寵麻吉」與「2020520」上市公告</a></li>\n",
      "</ul>\n",
      "</div>\n",
      "<div class=\"top_news_title\">重點資訊 <span class=\"font_glay10\">ＡＮＮＯＵＮＣＥＭＥＮＴ </span>\n",
      "<div class=\"font_glay10\" id=\"Div1\"></div>\n",
      "</div>\n",
      "<hr color=\"#FF0000\" size=\"2\" style=\"margin-bottom:0px\"/>\n",
      "<div class=\"font_glay14_indexNews\">\n",
      "<ul>\n",
      "<li style=\"height:2px;padding:0;border:0;background-position:-300px\">\n",
      "</li>\n",
      "<li><a href=\"/news/AS1080920news_detail_540.asp\">\n",
      "<span class=\"date\">\n",
      "</span>公益彩券中獎獎金免稅門檻提高為新臺幣5,000元</a></li>\n",
      "<li><a href=\"/news/ON1070904news_detail_431.asp\">\n",
      "<span class=\"date\">\n",
      "</span>專業人士參觀本公司開獎電視台及開獎流程影音連結</a></li>\n",
      "<li><a href=\"/news/ON1050905news_detail_242.asp\">\n",
      "<span class=\"date\">\n",
      "</span>台彩嚴正駁斥網路「開獎不實」傳聞</a></li>\n",
      "</ul>\n",
      "</div>\n",
      "</div>\n",
      "</div>\n",
      "<div id=\"rightdown\">\n",
      "<!--***************BINGO BINGO**************-->\n",
      "<div class=\"contents_box01\">\n",
      "<div id=\"contents_logo_01\"> </div><div class=\"contents_mine_tx01\"><span class=\"font_black15\">109/5/15 第109027502期 </span> <span class=\"font_red14\"><a href=\"/Lotto/BingoBingo/history.aspx\">開獎結果</a> ｜ <a href=\"/Lotto/BingoBingo/drawing.aspx\">各期獎號查詢</a><a href=\"/lotto/BingoBingo/OEHLStatistic.htm\"><div id=\"contents_logo_01-2\"></div></a></span></div><div class=\"contents_mine_tx04\">開出獎號</div><div class=\"ball_box01\"><div class=\"ball_tx ball_yellow\">02 </div><div class=\"ball_tx ball_yellow\">04 </div><div class=\"ball_tx ball_yellow\">05 </div><div class=\"ball_tx ball_yellow\">06 </div><div class=\"ball_tx ball_yellow\">09 </div><div class=\"ball_tx ball_yellow\">17 </div><div class=\"ball_tx ball_yellow\">20 </div><div class=\"ball_tx ball_yellow\">22 </div><div class=\"ball_tx ball_yellow\">27 </div><div class=\"ball_tx ball_yellow\">30 </div><div class=\"ball_tx ball_yellow\">36 </div><div class=\"ball_tx ball_yellow\">37 </div><div class=\"ball_tx ball_yellow\">46 </div><div class=\"ball_tx ball_yellow\">49 </div><div class=\"ball_tx ball_yellow\">59 </div><div class=\"ball_tx ball_yellow\">63 </div><div class=\"ball_tx ball_yellow\">76 </div><div class=\"ball_tx ball_yellow\">77 </div><div class=\"ball_tx ball_yellow\">78 </div><div class=\"ball_tx ball_yellow\">80 </div></div><div class=\"contents_mine_tx08\">&amp;nbsp&amp;nbsp超級<br/>&amp;nbsp&amp;nbsp獎號<br/><div class=\"ball_red\">04</div></div><div class=\"contents_mine_tx08\">&amp;nbsp&amp;nbsp&amp;nbsp猜<br/>&amp;nbsp大&amp;nbsp小<br/><div class=\"ball_blue_BB1\">－</div></div><div class=\"contents_mine_tx08\">&amp;nbsp&amp;nbsp&amp;nbsp猜<br/>&amp;nbsp單&amp;nbsp雙<br/><div class=\"ball_blue_BB2\">小雙</div></div>\n",
      "</div>\n",
      "<div class=\"dotted01\"></div>\n",
      "<!--***************雙贏彩區塊***************-->\n",
      "<div class=\"contents_box06\">\n",
      "<div id=\"contents_logo_11\"></div><div class=\"contents_mine_tx09\"><span class=\"font_black15\">109/5/14 第109000116期 </span><span class=\"font_red14\"><a href=\"Result_all.aspx#12\">開獎結果</a></span></div><div class=\"contents_mine_tx04\">開出順序<br/>大小順序</div><div class=\"ball_tx ball_blue\">03 </div><div class=\"ball_tx ball_blue\">13 </div><div class=\"ball_tx ball_blue\">20 </div><div class=\"ball_tx ball_blue\">12 </div><div class=\"ball_tx ball_blue\">23 </div><div class=\"ball_tx ball_blue\">07 </div><div class=\"ball_tx ball_blue\">01 </div><div class=\"ball_tx ball_blue\">05 </div><div class=\"ball_tx ball_blue\">11 </div><div class=\"ball_tx ball_blue\">24 </div><div class=\"ball_tx ball_blue\">10 </div><div class=\"ball_tx ball_blue\">04 </div><div class=\"ball_tx ball_blue\">01 </div><div class=\"ball_tx ball_blue\">03 </div><div class=\"ball_tx ball_blue\">04 </div><div class=\"ball_tx ball_blue\">05 </div><div class=\"ball_tx ball_blue\">07 </div><div class=\"ball_tx ball_blue\">10 </div><div class=\"ball_tx ball_blue\">11 </div><div class=\"ball_tx ball_blue\">12 </div><div class=\"ball_tx ball_blue\">13 </div><div class=\"ball_tx ball_blue\">20 </div><div class=\"ball_tx ball_blue\">23 </div><div class=\"ball_tx ball_blue\">24 </div>\n",
      "</div>\n",
      "<div class=\"dotted01\"></div>\n",
      "<!--***************威力彩區塊***************-->\n",
      "<div class=\"contents_box02\">\n",
      "<div id=\"contents_logo_02\"></div><div class=\"contents_mine_tx02\"><span class=\"font_black15\">109/5/14 第109000039期 </span><span class=\"font_red14\"><a href=\"Result_all.aspx#01\">開獎結果</a></span></div><div class=\"contents_mine_tx04\">開出順序<br/>大小順序<br/>第二區</div><div class=\"ball_tx ball_green\">12 </div><div class=\"ball_tx ball_green\">24 </div><div class=\"ball_tx ball_green\">17 </div><div class=\"ball_tx ball_green\">35 </div><div class=\"ball_tx ball_green\">30 </div><div class=\"ball_tx ball_green\">34 </div><div class=\"ball_tx ball_green\">12 </div><div class=\"ball_tx ball_green\">17 </div><div class=\"ball_tx ball_green\">24 </div><div class=\"ball_tx ball_green\">30 </div><div class=\"ball_tx ball_green\">34 </div><div class=\"ball_tx ball_green\">35 </div><div class=\"ball_red\">02 </div>\n",
      "</div>\n",
      "<div class=\"dotted02\"></div>\n",
      "<!--***************38樂合彩區塊***************-->\n",
      "<div class=\"contents_box02\">\n",
      "<div id=\"contents_logo_03\"></div><div class=\"contents_mine_tx02\"><span class=\"font_black15\">109/5/14 第109000039期 </span><span class=\"font_red14\"><a href=\"Result_all.aspx#07\">開獎結果</a></span></div><div class=\"contents_mine_tx04\">開出順序<br/>大小順序</div><div class=\"ball_tx ball_green\">12 </div><div class=\"ball_tx ball_green\">24 </div><div class=\"ball_tx ball_green\">17 </div><div class=\"ball_tx ball_green\">35 </div><div class=\"ball_tx ball_green\">30 </div><div class=\"ball_tx ball_green\">34 </div><div class=\"ball_tx ball_green\">12 </div><div class=\"ball_tx ball_green\">17 </div><div class=\"ball_tx ball_green\">24 </div><div class=\"ball_tx ball_green\">30 </div><div class=\"ball_tx ball_green\">34 </div><div class=\"ball_tx ball_green\">35 </div>\n",
      "</div>\n",
      "<div class=\"dotted01\"></div>\n",
      "<!--***************大樂透區塊***************-->\n",
      "<div class=\"contents_box02\">\n",
      "<div id=\"contents_logo_04\"></div><div class=\"contents_mine_tx02\"><span class=\"font_black15\">109/5/12 第109000046期 </span><span class=\"font_red14\"><a href=\"Result_all.aspx#02\">開獎結果</a></span></div><div class=\"contents_mine_tx04\">開出順序<br/>大小順序<br/>特別號</div><div class=\"ball_tx ball_yellow\">35 </div><div class=\"ball_tx ball_yellow\">01 </div><div class=\"ball_tx ball_yellow\">08 </div><div class=\"ball_tx ball_yellow\">36 </div><div class=\"ball_tx ball_yellow\">05 </div><div class=\"ball_tx ball_yellow\">11 </div><div class=\"ball_tx ball_yellow\">01 </div><div class=\"ball_tx ball_yellow\">05 </div><div class=\"ball_tx ball_yellow\">08 </div><div class=\"ball_tx ball_yellow\">11 </div><div class=\"ball_tx ball_yellow\">35 </div><div class=\"ball_tx ball_yellow\">36 </div><div class=\"ball_red\">26 </div>\n",
      "</div>\n",
      "<div class=\"dotted02\"></div>\n",
      "<!--***************49樂合彩區塊***************-->\n",
      "<div class=\"contents_box02\">\n",
      "<div id=\"contents_logo_05\"></div><div class=\"contents_mine_tx02\"><span class=\"font_black15\">109/5/12 第109000046期 </span><span class=\"font_red14\"><a href=\"Result_all.aspx#08\">開獎結果</a></span></div><div class=\"contents_mine_tx04\">開出順序<br/>大小順序</div><div class=\"ball_tx ball_yellow\">35 </div><div class=\"ball_tx ball_yellow\">01 </div><div class=\"ball_tx ball_yellow\">08 </div><div class=\"ball_tx ball_yellow\">36 </div><div class=\"ball_tx ball_yellow\">05 </div><div class=\"ball_tx ball_yellow\">11 </div><div class=\"ball_tx ball_yellow\">01 </div><div class=\"ball_tx ball_yellow\">05 </div><div class=\"ball_tx ball_yellow\">08 </div><div class=\"ball_tx ball_yellow\">11 </div><div class=\"ball_tx ball_yellow\">35 </div><div class=\"ball_tx ball_yellow\">36 </div>\n",
      "</div>\n",
      "<div class=\"dotted01\"></div>\n",
      "<!--***************大福彩區塊***************-->\n",
      "<!--div class=\"contents_box05\">\r\n",
      "      \r\n",
      "    </div-->\n",
      "<!--div class=\"dotted01\"></div-->\n",
      "<!--**************今彩539區塊**************-->\n",
      "<div class=\"contents_box03\">\n",
      "<div id=\"contents_logo_06\"></div><div class=\"contents_mine_tx02\"><span class=\"font_black15\">109/5/14 第109000116期 </span><span class=\"font_red14\"><a href=\"Result_all.aspx#03\">開獎結果</a></span></div><div class=\"contents_mine_tx04\">開出順序<br/>大小順序</div><div class=\"ball_tx ball_lemon\">16 </div><div class=\"ball_tx ball_lemon\">11 </div><div class=\"ball_tx ball_lemon\">02 </div><div class=\"ball_tx ball_lemon\">17 </div><div class=\"ball_tx ball_lemon\">08 </div><div class=\"ball_tx\"></div><div class=\"ball_tx ball_lemon\">02 </div><div class=\"ball_tx ball_lemon\">08 </div><div class=\"ball_tx ball_lemon\">11 </div><div class=\"ball_tx ball_lemon\">16 </div><div class=\"ball_tx ball_lemon\">17 </div>\n",
      "</div>\n",
      "<div class=\"dotted03\"></div>\n",
      "<!--**************39樂合彩區塊**************-->\n",
      "<div class=\"contents_box03\">\n",
      "<div id=\"contents_logo_07\"></div><div class=\"contents_mine_tx02\"><span class=\"font_black15\">109/5/14 第109000116期 </span><span class=\"font_red14\"><a href=\"Result_all.aspx#09\">開獎結果</a></span></div><div class=\"contents_mine_tx04\">開出順序<br/>大小順序</div><div class=\"ball_tx ball_lemon\">16 </div><div class=\"ball_tx ball_lemon\">11 </div><div class=\"ball_tx ball_lemon\">02 </div><div class=\"ball_tx ball_lemon\">17 </div><div class=\"ball_tx ball_lemon\">08 </div><div class=\"ball_tx\"></div><div class=\"ball_tx ball_lemon\">02 </div><div class=\"ball_tx ball_lemon\">08 </div><div class=\"ball_tx ball_lemon\">11 </div><div class=\"ball_tx ball_lemon\">16 </div><div class=\"ball_tx ball_lemon\">17 </div>\n",
      "</div>\n",
      "<div class=\"dotted01\"></div>\n",
      "<!--**************3星彩區塊**************-->\n",
      "<div class=\"contents_box04\">\n",
      "<div id=\"contents_logo_08\"></div><div class=\"contents_mine_tx02\"><span class=\"font_black15\">109/5/14 第109000116期 </span><span class=\"font_red14\"><a href=\"Result_all.aspx#05\">開獎結果</a></span></div><div class=\"contents_mine_tx04\">中獎號碼</div><div class=\"ball_tx ball_purple\">6</div><div class=\"ball_tx ball_purple\">3</div><div class=\"ball_tx ball_purple\">5</div>\n",
      "</div>\n",
      "<div class=\"dotted04\"></div>\n",
      "<!--**************4星彩區塊**************-->\n",
      "<div class=\"contents_box04\">\n",
      "<div id=\"contents_logo_09\"></div><div class=\"contents_mine_tx02\"><span class=\"font_black15\">109/5/14 第109000116期 </span><span class=\"font_red14\"><a href=\"Result_all.aspx#06\">開獎結果</a></span></div><div class=\"contents_mine_tx04\">中獎號碼</div><div class=\"ball_tx ball_purple\">3</div><div class=\"ball_tx ball_purple\">7</div><div class=\"ball_tx ball_purple\">9</div><div class=\"ball_tx ball_purple\">5</div>\n",
      "</div>\n",
      "</div>\n",
      "<iframe frameborder=\"0\" height=\"70\" scrolling=\"no\" src=\"fooder.asp\" width=\"1024\"> </iframe>\n",
      "</div>\n"
     ]
    }
   ],
   "source": [
    "print(Taiwan_LOTTE_Parsed.div)"
   ]
  },
  {
   "cell_type": "code",
   "execution_count": 64,
   "metadata": {},
   "outputs": [],
   "source": [
    "Select01 = Taiwan_LOTTE_Parsed.select('#rightdown')"
   ]
  },
  {
   "cell_type": "code",
   "execution_count": 65,
   "metadata": {},
   "outputs": [
    {
     "name": "stdout",
     "output_type": "stream",
     "text": [
      "[<div id=\"rightdown\">\n",
      "<!--***************BINGO BINGO**************-->\n",
      "<div class=\"contents_box01\">\n",
      "<div id=\"contents_logo_01\"> </div><div class=\"contents_mine_tx01\"><span class=\"font_black15\">109/5/15 第109027502期 </span> <span class=\"font_red14\"><a href=\"/Lotto/BingoBingo/history.aspx\">開獎結果</a> ｜ <a href=\"/Lotto/BingoBingo/drawing.aspx\">各期獎號查詢</a><a href=\"/lotto/BingoBingo/OEHLStatistic.htm\"><div id=\"contents_logo_01-2\"></div></a></span></div><div class=\"contents_mine_tx04\">開出獎號</div><div class=\"ball_box01\"><div class=\"ball_tx ball_yellow\">02 </div><div class=\"ball_tx ball_yellow\">04 </div><div class=\"ball_tx ball_yellow\">05 </div><div class=\"ball_tx ball_yellow\">06 </div><div class=\"ball_tx ball_yellow\">09 </div><div class=\"ball_tx ball_yellow\">17 </div><div class=\"ball_tx ball_yellow\">20 </div><div class=\"ball_tx ball_yellow\">22 </div><div class=\"ball_tx ball_yellow\">27 </div><div class=\"ball_tx ball_yellow\">30 </div><div class=\"ball_tx ball_yellow\">36 </div><div class=\"ball_tx ball_yellow\">37 </div><div class=\"ball_tx ball_yellow\">46 </div><div class=\"ball_tx ball_yellow\">49 </div><div class=\"ball_tx ball_yellow\">59 </div><div class=\"ball_tx ball_yellow\">63 </div><div class=\"ball_tx ball_yellow\">76 </div><div class=\"ball_tx ball_yellow\">77 </div><div class=\"ball_tx ball_yellow\">78 </div><div class=\"ball_tx ball_yellow\">80 </div></div><div class=\"contents_mine_tx08\">&amp;nbsp&amp;nbsp超級<br/>&amp;nbsp&amp;nbsp獎號<br/><div class=\"ball_red\">04</div></div><div class=\"contents_mine_tx08\">&amp;nbsp&amp;nbsp&amp;nbsp猜<br/>&amp;nbsp大&amp;nbsp小<br/><div class=\"ball_blue_BB1\">－</div></div><div class=\"contents_mine_tx08\">&amp;nbsp&amp;nbsp&amp;nbsp猜<br/>&amp;nbsp單&amp;nbsp雙<br/><div class=\"ball_blue_BB2\">小雙</div></div>\n",
      "</div>\n",
      "<div class=\"dotted01\"></div>\n",
      "<!--***************雙贏彩區塊***************-->\n",
      "<div class=\"contents_box06\">\n",
      "<div id=\"contents_logo_11\"></div><div class=\"contents_mine_tx09\"><span class=\"font_black15\">109/5/14 第109000116期 </span><span class=\"font_red14\"><a href=\"Result_all.aspx#12\">開獎結果</a></span></div><div class=\"contents_mine_tx04\">開出順序<br/>大小順序</div><div class=\"ball_tx ball_blue\">03 </div><div class=\"ball_tx ball_blue\">13 </div><div class=\"ball_tx ball_blue\">20 </div><div class=\"ball_tx ball_blue\">12 </div><div class=\"ball_tx ball_blue\">23 </div><div class=\"ball_tx ball_blue\">07 </div><div class=\"ball_tx ball_blue\">01 </div><div class=\"ball_tx ball_blue\">05 </div><div class=\"ball_tx ball_blue\">11 </div><div class=\"ball_tx ball_blue\">24 </div><div class=\"ball_tx ball_blue\">10 </div><div class=\"ball_tx ball_blue\">04 </div><div class=\"ball_tx ball_blue\">01 </div><div class=\"ball_tx ball_blue\">03 </div><div class=\"ball_tx ball_blue\">04 </div><div class=\"ball_tx ball_blue\">05 </div><div class=\"ball_tx ball_blue\">07 </div><div class=\"ball_tx ball_blue\">10 </div><div class=\"ball_tx ball_blue\">11 </div><div class=\"ball_tx ball_blue\">12 </div><div class=\"ball_tx ball_blue\">13 </div><div class=\"ball_tx ball_blue\">20 </div><div class=\"ball_tx ball_blue\">23 </div><div class=\"ball_tx ball_blue\">24 </div>\n",
      "</div>\n",
      "<div class=\"dotted01\"></div>\n",
      "<!--***************威力彩區塊***************-->\n",
      "<div class=\"contents_box02\">\n",
      "<div id=\"contents_logo_02\"></div><div class=\"contents_mine_tx02\"><span class=\"font_black15\">109/5/14 第109000039期 </span><span class=\"font_red14\"><a href=\"Result_all.aspx#01\">開獎結果</a></span></div><div class=\"contents_mine_tx04\">開出順序<br/>大小順序<br/>第二區</div><div class=\"ball_tx ball_green\">12 </div><div class=\"ball_tx ball_green\">24 </div><div class=\"ball_tx ball_green\">17 </div><div class=\"ball_tx ball_green\">35 </div><div class=\"ball_tx ball_green\">30 </div><div class=\"ball_tx ball_green\">34 </div><div class=\"ball_tx ball_green\">12 </div><div class=\"ball_tx ball_green\">17 </div><div class=\"ball_tx ball_green\">24 </div><div class=\"ball_tx ball_green\">30 </div><div class=\"ball_tx ball_green\">34 </div><div class=\"ball_tx ball_green\">35 </div><div class=\"ball_red\">02 </div>\n",
      "</div>\n",
      "<div class=\"dotted02\"></div>\n",
      "<!--***************38樂合彩區塊***************-->\n",
      "<div class=\"contents_box02\">\n",
      "<div id=\"contents_logo_03\"></div><div class=\"contents_mine_tx02\"><span class=\"font_black15\">109/5/14 第109000039期 </span><span class=\"font_red14\"><a href=\"Result_all.aspx#07\">開獎結果</a></span></div><div class=\"contents_mine_tx04\">開出順序<br/>大小順序</div><div class=\"ball_tx ball_green\">12 </div><div class=\"ball_tx ball_green\">24 </div><div class=\"ball_tx ball_green\">17 </div><div class=\"ball_tx ball_green\">35 </div><div class=\"ball_tx ball_green\">30 </div><div class=\"ball_tx ball_green\">34 </div><div class=\"ball_tx ball_green\">12 </div><div class=\"ball_tx ball_green\">17 </div><div class=\"ball_tx ball_green\">24 </div><div class=\"ball_tx ball_green\">30 </div><div class=\"ball_tx ball_green\">34 </div><div class=\"ball_tx ball_green\">35 </div>\n",
      "</div>\n",
      "<div class=\"dotted01\"></div>\n",
      "<!--***************大樂透區塊***************-->\n",
      "<div class=\"contents_box02\">\n",
      "<div id=\"contents_logo_04\"></div><div class=\"contents_mine_tx02\"><span class=\"font_black15\">109/5/12 第109000046期 </span><span class=\"font_red14\"><a href=\"Result_all.aspx#02\">開獎結果</a></span></div><div class=\"contents_mine_tx04\">開出順序<br/>大小順序<br/>特別號</div><div class=\"ball_tx ball_yellow\">35 </div><div class=\"ball_tx ball_yellow\">01 </div><div class=\"ball_tx ball_yellow\">08 </div><div class=\"ball_tx ball_yellow\">36 </div><div class=\"ball_tx ball_yellow\">05 </div><div class=\"ball_tx ball_yellow\">11 </div><div class=\"ball_tx ball_yellow\">01 </div><div class=\"ball_tx ball_yellow\">05 </div><div class=\"ball_tx ball_yellow\">08 </div><div class=\"ball_tx ball_yellow\">11 </div><div class=\"ball_tx ball_yellow\">35 </div><div class=\"ball_tx ball_yellow\">36 </div><div class=\"ball_red\">26 </div>\n",
      "</div>\n",
      "<div class=\"dotted02\"></div>\n",
      "<!--***************49樂合彩區塊***************-->\n",
      "<div class=\"contents_box02\">\n",
      "<div id=\"contents_logo_05\"></div><div class=\"contents_mine_tx02\"><span class=\"font_black15\">109/5/12 第109000046期 </span><span class=\"font_red14\"><a href=\"Result_all.aspx#08\">開獎結果</a></span></div><div class=\"contents_mine_tx04\">開出順序<br/>大小順序</div><div class=\"ball_tx ball_yellow\">35 </div><div class=\"ball_tx ball_yellow\">01 </div><div class=\"ball_tx ball_yellow\">08 </div><div class=\"ball_tx ball_yellow\">36 </div><div class=\"ball_tx ball_yellow\">05 </div><div class=\"ball_tx ball_yellow\">11 </div><div class=\"ball_tx ball_yellow\">01 </div><div class=\"ball_tx ball_yellow\">05 </div><div class=\"ball_tx ball_yellow\">08 </div><div class=\"ball_tx ball_yellow\">11 </div><div class=\"ball_tx ball_yellow\">35 </div><div class=\"ball_tx ball_yellow\">36 </div>\n",
      "</div>\n",
      "<div class=\"dotted01\"></div>\n",
      "<!--***************大福彩區塊***************-->\n",
      "<!--div class=\"contents_box05\">\r\n",
      "      \r\n",
      "    </div-->\n",
      "<!--div class=\"dotted01\"></div-->\n",
      "<!--**************今彩539區塊**************-->\n",
      "<div class=\"contents_box03\">\n",
      "<div id=\"contents_logo_06\"></div><div class=\"contents_mine_tx02\"><span class=\"font_black15\">109/5/14 第109000116期 </span><span class=\"font_red14\"><a href=\"Result_all.aspx#03\">開獎結果</a></span></div><div class=\"contents_mine_tx04\">開出順序<br/>大小順序</div><div class=\"ball_tx ball_lemon\">16 </div><div class=\"ball_tx ball_lemon\">11 </div><div class=\"ball_tx ball_lemon\">02 </div><div class=\"ball_tx ball_lemon\">17 </div><div class=\"ball_tx ball_lemon\">08 </div><div class=\"ball_tx\"></div><div class=\"ball_tx ball_lemon\">02 </div><div class=\"ball_tx ball_lemon\">08 </div><div class=\"ball_tx ball_lemon\">11 </div><div class=\"ball_tx ball_lemon\">16 </div><div class=\"ball_tx ball_lemon\">17 </div>\n",
      "</div>\n",
      "<div class=\"dotted03\"></div>\n",
      "<!--**************39樂合彩區塊**************-->\n",
      "<div class=\"contents_box03\">\n",
      "<div id=\"contents_logo_07\"></div><div class=\"contents_mine_tx02\"><span class=\"font_black15\">109/5/14 第109000116期 </span><span class=\"font_red14\"><a href=\"Result_all.aspx#09\">開獎結果</a></span></div><div class=\"contents_mine_tx04\">開出順序<br/>大小順序</div><div class=\"ball_tx ball_lemon\">16 </div><div class=\"ball_tx ball_lemon\">11 </div><div class=\"ball_tx ball_lemon\">02 </div><div class=\"ball_tx ball_lemon\">17 </div><div class=\"ball_tx ball_lemon\">08 </div><div class=\"ball_tx\"></div><div class=\"ball_tx ball_lemon\">02 </div><div class=\"ball_tx ball_lemon\">08 </div><div class=\"ball_tx ball_lemon\">11 </div><div class=\"ball_tx ball_lemon\">16 </div><div class=\"ball_tx ball_lemon\">17 </div>\n",
      "</div>\n",
      "<div class=\"dotted01\"></div>\n",
      "<!--**************3星彩區塊**************-->\n",
      "<div class=\"contents_box04\">\n",
      "<div id=\"contents_logo_08\"></div><div class=\"contents_mine_tx02\"><span class=\"font_black15\">109/5/14 第109000116期 </span><span class=\"font_red14\"><a href=\"Result_all.aspx#05\">開獎結果</a></span></div><div class=\"contents_mine_tx04\">中獎號碼</div><div class=\"ball_tx ball_purple\">6</div><div class=\"ball_tx ball_purple\">3</div><div class=\"ball_tx ball_purple\">5</div>\n",
      "</div>\n",
      "<div class=\"dotted04\"></div>\n",
      "<!--**************4星彩區塊**************-->\n",
      "<div class=\"contents_box04\">\n",
      "<div id=\"contents_logo_09\"></div><div class=\"contents_mine_tx02\"><span class=\"font_black15\">109/5/14 第109000116期 </span><span class=\"font_red14\"><a href=\"Result_all.aspx#06\">開獎結果</a></span></div><div class=\"contents_mine_tx04\">中獎號碼</div><div class=\"ball_tx ball_purple\">3</div><div class=\"ball_tx ball_purple\">7</div><div class=\"ball_tx ball_purple\">9</div><div class=\"ball_tx ball_purple\">5</div>\n",
      "</div>\n",
      "</div>]\n"
     ]
    }
   ],
   "source": [
    "print(Select01)"
   ]
  },
  {
   "cell_type": "code",
   "execution_count": 69,
   "metadata": {},
   "outputs": [
    {
     "data": {
      "text/plain": [
       "<div id=\"rightdown\">\n",
       "<!--***************BINGO BINGO**************-->\n",
       "<div class=\"contents_box01\">\n",
       "<div id=\"contents_logo_01\"> </div><div class=\"contents_mine_tx01\"><span class=\"font_black15\">109/5/15 第109027502期 </span> <span class=\"font_red14\"><a href=\"/Lotto/BingoBingo/history.aspx\">開獎結果</a> ｜ <a href=\"/Lotto/BingoBingo/drawing.aspx\">各期獎號查詢</a><a href=\"/lotto/BingoBingo/OEHLStatistic.htm\"><div id=\"contents_logo_01-2\"></div></a></span></div><div class=\"contents_mine_tx04\">開出獎號</div><div class=\"ball_box01\"><div class=\"ball_tx ball_yellow\">02 </div><div class=\"ball_tx ball_yellow\">04 </div><div class=\"ball_tx ball_yellow\">05 </div><div class=\"ball_tx ball_yellow\">06 </div><div class=\"ball_tx ball_yellow\">09 </div><div class=\"ball_tx ball_yellow\">17 </div><div class=\"ball_tx ball_yellow\">20 </div><div class=\"ball_tx ball_yellow\">22 </div><div class=\"ball_tx ball_yellow\">27 </div><div class=\"ball_tx ball_yellow\">30 </div><div class=\"ball_tx ball_yellow\">36 </div><div class=\"ball_tx ball_yellow\">37 </div><div class=\"ball_tx ball_yellow\">46 </div><div class=\"ball_tx ball_yellow\">49 </div><div class=\"ball_tx ball_yellow\">59 </div><div class=\"ball_tx ball_yellow\">63 </div><div class=\"ball_tx ball_yellow\">76 </div><div class=\"ball_tx ball_yellow\">77 </div><div class=\"ball_tx ball_yellow\">78 </div><div class=\"ball_tx ball_yellow\">80 </div></div><div class=\"contents_mine_tx08\">&amp;nbsp&amp;nbsp超級<br/>&amp;nbsp&amp;nbsp獎號<br/><div class=\"ball_red\">04</div></div><div class=\"contents_mine_tx08\">&amp;nbsp&amp;nbsp&amp;nbsp猜<br/>&amp;nbsp大&amp;nbsp小<br/><div class=\"ball_blue_BB1\">－</div></div><div class=\"contents_mine_tx08\">&amp;nbsp&amp;nbsp&amp;nbsp猜<br/>&amp;nbsp單&amp;nbsp雙<br/><div class=\"ball_blue_BB2\">小雙</div></div>\n",
       "</div>\n",
       "<div class=\"dotted01\"></div>\n",
       "<!--***************雙贏彩區塊***************-->\n",
       "<div class=\"contents_box06\">\n",
       "<div id=\"contents_logo_11\"></div><div class=\"contents_mine_tx09\"><span class=\"font_black15\">109/5/14 第109000116期 </span><span class=\"font_red14\"><a href=\"Result_all.aspx#12\">開獎結果</a></span></div><div class=\"contents_mine_tx04\">開出順序<br/>大小順序</div><div class=\"ball_tx ball_blue\">03 </div><div class=\"ball_tx ball_blue\">13 </div><div class=\"ball_tx ball_blue\">20 </div><div class=\"ball_tx ball_blue\">12 </div><div class=\"ball_tx ball_blue\">23 </div><div class=\"ball_tx ball_blue\">07 </div><div class=\"ball_tx ball_blue\">01 </div><div class=\"ball_tx ball_blue\">05 </div><div class=\"ball_tx ball_blue\">11 </div><div class=\"ball_tx ball_blue\">24 </div><div class=\"ball_tx ball_blue\">10 </div><div class=\"ball_tx ball_blue\">04 </div><div class=\"ball_tx ball_blue\">01 </div><div class=\"ball_tx ball_blue\">03 </div><div class=\"ball_tx ball_blue\">04 </div><div class=\"ball_tx ball_blue\">05 </div><div class=\"ball_tx ball_blue\">07 </div><div class=\"ball_tx ball_blue\">10 </div><div class=\"ball_tx ball_blue\">11 </div><div class=\"ball_tx ball_blue\">12 </div><div class=\"ball_tx ball_blue\">13 </div><div class=\"ball_tx ball_blue\">20 </div><div class=\"ball_tx ball_blue\">23 </div><div class=\"ball_tx ball_blue\">24 </div>\n",
       "</div>\n",
       "<div class=\"dotted01\"></div>\n",
       "<!--***************威力彩區塊***************-->\n",
       "<div class=\"contents_box02\">\n",
       "<div id=\"contents_logo_02\"></div><div class=\"contents_mine_tx02\"><span class=\"font_black15\">109/5/14 第109000039期 </span><span class=\"font_red14\"><a href=\"Result_all.aspx#01\">開獎結果</a></span></div><div class=\"contents_mine_tx04\">開出順序<br/>大小順序<br/>第二區</div><div class=\"ball_tx ball_green\">12 </div><div class=\"ball_tx ball_green\">24 </div><div class=\"ball_tx ball_green\">17 </div><div class=\"ball_tx ball_green\">35 </div><div class=\"ball_tx ball_green\">30 </div><div class=\"ball_tx ball_green\">34 </div><div class=\"ball_tx ball_green\">12 </div><div class=\"ball_tx ball_green\">17 </div><div class=\"ball_tx ball_green\">24 </div><div class=\"ball_tx ball_green\">30 </div><div class=\"ball_tx ball_green\">34 </div><div class=\"ball_tx ball_green\">35 </div><div class=\"ball_red\">02 </div>\n",
       "</div>\n",
       "<div class=\"dotted02\"></div>\n",
       "<!--***************38樂合彩區塊***************-->\n",
       "<div class=\"contents_box02\">\n",
       "<div id=\"contents_logo_03\"></div><div class=\"contents_mine_tx02\"><span class=\"font_black15\">109/5/14 第109000039期 </span><span class=\"font_red14\"><a href=\"Result_all.aspx#07\">開獎結果</a></span></div><div class=\"contents_mine_tx04\">開出順序<br/>大小順序</div><div class=\"ball_tx ball_green\">12 </div><div class=\"ball_tx ball_green\">24 </div><div class=\"ball_tx ball_green\">17 </div><div class=\"ball_tx ball_green\">35 </div><div class=\"ball_tx ball_green\">30 </div><div class=\"ball_tx ball_green\">34 </div><div class=\"ball_tx ball_green\">12 </div><div class=\"ball_tx ball_green\">17 </div><div class=\"ball_tx ball_green\">24 </div><div class=\"ball_tx ball_green\">30 </div><div class=\"ball_tx ball_green\">34 </div><div class=\"ball_tx ball_green\">35 </div>\n",
       "</div>\n",
       "<div class=\"dotted01\"></div>\n",
       "<!--***************大樂透區塊***************-->\n",
       "<div class=\"contents_box02\">\n",
       "<div id=\"contents_logo_04\"></div><div class=\"contents_mine_tx02\"><span class=\"font_black15\">109/5/12 第109000046期 </span><span class=\"font_red14\"><a href=\"Result_all.aspx#02\">開獎結果</a></span></div><div class=\"contents_mine_tx04\">開出順序<br/>大小順序<br/>特別號</div><div class=\"ball_tx ball_yellow\">35 </div><div class=\"ball_tx ball_yellow\">01 </div><div class=\"ball_tx ball_yellow\">08 </div><div class=\"ball_tx ball_yellow\">36 </div><div class=\"ball_tx ball_yellow\">05 </div><div class=\"ball_tx ball_yellow\">11 </div><div class=\"ball_tx ball_yellow\">01 </div><div class=\"ball_tx ball_yellow\">05 </div><div class=\"ball_tx ball_yellow\">08 </div><div class=\"ball_tx ball_yellow\">11 </div><div class=\"ball_tx ball_yellow\">35 </div><div class=\"ball_tx ball_yellow\">36 </div><div class=\"ball_red\">26 </div>\n",
       "</div>\n",
       "<div class=\"dotted02\"></div>\n",
       "<!--***************49樂合彩區塊***************-->\n",
       "<div class=\"contents_box02\">\n",
       "<div id=\"contents_logo_05\"></div><div class=\"contents_mine_tx02\"><span class=\"font_black15\">109/5/12 第109000046期 </span><span class=\"font_red14\"><a href=\"Result_all.aspx#08\">開獎結果</a></span></div><div class=\"contents_mine_tx04\">開出順序<br/>大小順序</div><div class=\"ball_tx ball_yellow\">35 </div><div class=\"ball_tx ball_yellow\">01 </div><div class=\"ball_tx ball_yellow\">08 </div><div class=\"ball_tx ball_yellow\">36 </div><div class=\"ball_tx ball_yellow\">05 </div><div class=\"ball_tx ball_yellow\">11 </div><div class=\"ball_tx ball_yellow\">01 </div><div class=\"ball_tx ball_yellow\">05 </div><div class=\"ball_tx ball_yellow\">08 </div><div class=\"ball_tx ball_yellow\">11 </div><div class=\"ball_tx ball_yellow\">35 </div><div class=\"ball_tx ball_yellow\">36 </div>\n",
       "</div>\n",
       "<div class=\"dotted01\"></div>\n",
       "<!--***************大福彩區塊***************-->\n",
       "<!--div class=\"contents_box05\">\n",
       "      \n",
       "    </div-->\n",
       "<!--div class=\"dotted01\"></div-->\n",
       "<!--**************今彩539區塊**************-->\n",
       "<div class=\"contents_box03\">\n",
       "<div id=\"contents_logo_06\"></div><div class=\"contents_mine_tx02\"><span class=\"font_black15\">109/5/14 第109000116期 </span><span class=\"font_red14\"><a href=\"Result_all.aspx#03\">開獎結果</a></span></div><div class=\"contents_mine_tx04\">開出順序<br/>大小順序</div><div class=\"ball_tx ball_lemon\">16 </div><div class=\"ball_tx ball_lemon\">11 </div><div class=\"ball_tx ball_lemon\">02 </div><div class=\"ball_tx ball_lemon\">17 </div><div class=\"ball_tx ball_lemon\">08 </div><div class=\"ball_tx\"></div><div class=\"ball_tx ball_lemon\">02 </div><div class=\"ball_tx ball_lemon\">08 </div><div class=\"ball_tx ball_lemon\">11 </div><div class=\"ball_tx ball_lemon\">16 </div><div class=\"ball_tx ball_lemon\">17 </div>\n",
       "</div>\n",
       "<div class=\"dotted03\"></div>\n",
       "<!--**************39樂合彩區塊**************-->\n",
       "<div class=\"contents_box03\">\n",
       "<div id=\"contents_logo_07\"></div><div class=\"contents_mine_tx02\"><span class=\"font_black15\">109/5/14 第109000116期 </span><span class=\"font_red14\"><a href=\"Result_all.aspx#09\">開獎結果</a></span></div><div class=\"contents_mine_tx04\">開出順序<br/>大小順序</div><div class=\"ball_tx ball_lemon\">16 </div><div class=\"ball_tx ball_lemon\">11 </div><div class=\"ball_tx ball_lemon\">02 </div><div class=\"ball_tx ball_lemon\">17 </div><div class=\"ball_tx ball_lemon\">08 </div><div class=\"ball_tx\"></div><div class=\"ball_tx ball_lemon\">02 </div><div class=\"ball_tx ball_lemon\">08 </div><div class=\"ball_tx ball_lemon\">11 </div><div class=\"ball_tx ball_lemon\">16 </div><div class=\"ball_tx ball_lemon\">17 </div>\n",
       "</div>\n",
       "<div class=\"dotted01\"></div>\n",
       "<!--**************3星彩區塊**************-->\n",
       "<div class=\"contents_box04\">\n",
       "<div id=\"contents_logo_08\"></div><div class=\"contents_mine_tx02\"><span class=\"font_black15\">109/5/14 第109000116期 </span><span class=\"font_red14\"><a href=\"Result_all.aspx#05\">開獎結果</a></span></div><div class=\"contents_mine_tx04\">中獎號碼</div><div class=\"ball_tx ball_purple\">6</div><div class=\"ball_tx ball_purple\">3</div><div class=\"ball_tx ball_purple\">5</div>\n",
       "</div>\n",
       "<div class=\"dotted04\"></div>\n",
       "<!--**************4星彩區塊**************-->\n",
       "<div class=\"contents_box04\">\n",
       "<div id=\"contents_logo_09\"></div><div class=\"contents_mine_tx02\"><span class=\"font_black15\">109/5/14 第109000116期 </span><span class=\"font_red14\"><a href=\"Result_all.aspx#06\">開獎結果</a></span></div><div class=\"contents_mine_tx04\">中獎號碼</div><div class=\"ball_tx ball_purple\">3</div><div class=\"ball_tx ball_purple\">7</div><div class=\"ball_tx ball_purple\">9</div><div class=\"ball_tx ball_purple\">5</div>\n",
       "</div>\n",
       "</div>"
      ]
     },
     "execution_count": 69,
     "metadata": {},
     "output_type": "execute_result"
    }
   ],
   "source": [
    "Select01[0]"
   ]
  },
  {
   "cell_type": "code",
   "execution_count": 70,
   "metadata": {},
   "outputs": [],
   "source": [
    "Select02 = Select01[0].find('div', {'class':'contents_box02'})"
   ]
  },
  {
   "cell_type": "code",
   "execution_count": 71,
   "metadata": {},
   "outputs": [
    {
     "data": {
      "text/plain": [
       "<div class=\"contents_box02\">\n",
       "<div id=\"contents_logo_02\"></div><div class=\"contents_mine_tx02\"><span class=\"font_black15\">109/5/14 第109000039期 </span><span class=\"font_red14\"><a href=\"Result_all.aspx#01\">開獎結果</a></span></div><div class=\"contents_mine_tx04\">開出順序<br/>大小順序<br/>第二區</div><div class=\"ball_tx ball_green\">12 </div><div class=\"ball_tx ball_green\">24 </div><div class=\"ball_tx ball_green\">17 </div><div class=\"ball_tx ball_green\">35 </div><div class=\"ball_tx ball_green\">30 </div><div class=\"ball_tx ball_green\">34 </div><div class=\"ball_tx ball_green\">12 </div><div class=\"ball_tx ball_green\">17 </div><div class=\"ball_tx ball_green\">24 </div><div class=\"ball_tx ball_green\">30 </div><div class=\"ball_tx ball_green\">34 </div><div class=\"ball_tx ball_green\">35 </div><div class=\"ball_red\">02 </div>\n",
       "</div>"
      ]
     },
     "execution_count": 71,
     "metadata": {},
     "output_type": "execute_result"
    }
   ],
   "source": [
    "Select02"
   ]
  },
  {
   "cell_type": "code",
   "execution_count": 101,
   "metadata": {},
   "outputs": [],
   "source": [
    "Select03 = Select02.find_all('div', {'class':'ball_tx ball_green'})"
   ]
  },
  {
   "cell_type": "code",
   "execution_count": 102,
   "metadata": {},
   "outputs": [
    {
     "name": "stdout",
     "output_type": "stream",
     "text": [
      "[<div class=\"ball_tx ball_green\">12 </div>, <div class=\"ball_tx ball_green\">24 </div>, <div class=\"ball_tx ball_green\">17 </div>, <div class=\"ball_tx ball_green\">35 </div>, <div class=\"ball_tx ball_green\">30 </div>, <div class=\"ball_tx ball_green\">34 </div>, <div class=\"ball_tx ball_green\">12 </div>, <div class=\"ball_tx ball_green\">17 </div>, <div class=\"ball_tx ball_green\">24 </div>, <div class=\"ball_tx ball_green\">30 </div>, <div class=\"ball_tx ball_green\">34 </div>, <div class=\"ball_tx ball_green\">35 </div>]\n"
     ]
    }
   ],
   "source": [
    "print(Select03)"
   ]
  },
  {
   "cell_type": "code",
   "execution_count": 103,
   "metadata": {},
   "outputs": [
    {
     "data": {
      "text/plain": [
       "<div class=\"ball_tx ball_green\">12 </div>"
      ]
     },
     "execution_count": 103,
     "metadata": {},
     "output_type": "execute_result"
    }
   ],
   "source": [
    "Select03[0]"
   ]
  },
  {
   "cell_type": "code",
   "execution_count": 104,
   "metadata": {},
   "outputs": [
    {
     "data": {
      "text/plain": [
       "'12 '"
      ]
     },
     "execution_count": 104,
     "metadata": {},
     "output_type": "execute_result"
    }
   ],
   "source": [
    "Select03[0].text"
   ]
  },
  {
   "cell_type": "code",
   "execution_count": 105,
   "metadata": {},
   "outputs": [
    {
     "name": "stdout",
     "output_type": "stream",
     "text": [
      "12 \n",
      "24 \n",
      "17 \n",
      "35 \n",
      "30 \n",
      "34 \n"
     ]
    }
   ],
   "source": [
    "for i in range(0,6):\n",
    "    print(Select03[i].text)"
   ]
  },
  {
   "cell_type": "code",
   "execution_count": 106,
   "metadata": {},
   "outputs": [
    {
     "name": "stdout",
     "output_type": "stream",
     "text": [
      "12 \n",
      "17 \n",
      "24 \n",
      "30 \n",
      "34 \n",
      "35 \n"
     ]
    }
   ],
   "source": [
    "for i in range(6,12):\n",
    "    print(Select03[i].text)"
   ]
  },
  {
   "cell_type": "code",
   "execution_count": 107,
   "metadata": {},
   "outputs": [],
   "source": [
    "Select04 = Select02.find_all('div', {'class':'ball_red'})"
   ]
  },
  {
   "cell_type": "code",
   "execution_count": 108,
   "metadata": {},
   "outputs": [
    {
     "data": {
      "text/plain": [
       "[<div class=\"ball_red\">02 </div>]"
      ]
     },
     "execution_count": 108,
     "metadata": {},
     "output_type": "execute_result"
    }
   ],
   "source": [
    "Select04"
   ]
  },
  {
   "cell_type": "code",
   "execution_count": 109,
   "metadata": {},
   "outputs": [
    {
     "data": {
      "text/plain": [
       "'02 '"
      ]
     },
     "execution_count": 109,
     "metadata": {},
     "output_type": "execute_result"
    }
   ],
   "source": [
    "Select04[0].text"
   ]
  },
  {
   "cell_type": "code",
   "execution_count": 110,
   "metadata": {},
   "outputs": [],
   "source": [
    "Select05 = Select01[0].find_all('div',{'class':'contents_mine_tx01'})"
   ]
  },
  {
   "cell_type": "code",
   "execution_count": 111,
   "metadata": {},
   "outputs": [
    {
     "data": {
      "text/plain": [
       "<div class=\"contents_mine_tx01\"><span class=\"font_black15\">109/5/15 第109027502期 </span> <span class=\"font_red14\"><a href=\"/Lotto/BingoBingo/history.aspx\">開獎結果</a> ｜ <a href=\"/Lotto/BingoBingo/drawing.aspx\">各期獎號查詢</a><a href=\"/lotto/BingoBingo/OEHLStatistic.htm\"><div id=\"contents_logo_01-2\"></div></a></span></div>"
      ]
     },
     "execution_count": 111,
     "metadata": {},
     "output_type": "execute_result"
    }
   ],
   "source": [
    "Select05[0]"
   ]
  },
  {
   "cell_type": "code",
   "execution_count": 88,
   "metadata": {},
   "outputs": [],
   "source": [
    "Select06 = Select05[0].find_all('span',{'class':'font_black15'})"
   ]
  },
  {
   "cell_type": "code",
   "execution_count": 89,
   "metadata": {},
   "outputs": [
    {
     "data": {
      "text/plain": [
       "[<span class=\"font_black15\">109/5/15 第109027502期 </span>]"
      ]
     },
     "execution_count": 89,
     "metadata": {},
     "output_type": "execute_result"
    }
   ],
   "source": [
    "Select06"
   ]
  },
  {
   "cell_type": "code",
   "execution_count": 90,
   "metadata": {},
   "outputs": [
    {
     "data": {
      "text/plain": [
       "'109/5/15\\xa0第109027502期 '"
      ]
     },
     "execution_count": 90,
     "metadata": {},
     "output_type": "execute_result"
    }
   ],
   "source": [
    "Select06[0].text"
   ]
  },
  {
   "cell_type": "code",
   "execution_count": 91,
   "metadata": {},
   "outputs": [
    {
     "name": "stdout",
     "output_type": "stream",
     "text": [
      "109/5/15 第109027502期 \n"
     ]
    }
   ],
   "source": [
    "print(Select06[0].text)"
   ]
  },
  {
   "cell_type": "code",
   "execution_count": 112,
   "metadata": {},
   "outputs": [],
   "source": [
    "Select08 = Select01[0].find_all('div', {'class':'contents_box02'})"
   ]
  },
  {
   "cell_type": "code",
   "execution_count": 113,
   "metadata": {},
   "outputs": [
    {
     "data": {
      "text/plain": [
       "[<div class=\"contents_box02\">\n",
       " <div id=\"contents_logo_02\"></div><div class=\"contents_mine_tx02\"><span class=\"font_black15\">109/5/14 第109000039期 </span><span class=\"font_red14\"><a href=\"Result_all.aspx#01\">開獎結果</a></span></div><div class=\"contents_mine_tx04\">開出順序<br/>大小順序<br/>第二區</div><div class=\"ball_tx ball_green\">12 </div><div class=\"ball_tx ball_green\">24 </div><div class=\"ball_tx ball_green\">17 </div><div class=\"ball_tx ball_green\">35 </div><div class=\"ball_tx ball_green\">30 </div><div class=\"ball_tx ball_green\">34 </div><div class=\"ball_tx ball_green\">12 </div><div class=\"ball_tx ball_green\">17 </div><div class=\"ball_tx ball_green\">24 </div><div class=\"ball_tx ball_green\">30 </div><div class=\"ball_tx ball_green\">34 </div><div class=\"ball_tx ball_green\">35 </div><div class=\"ball_red\">02 </div>\n",
       " </div>,\n",
       " <div class=\"contents_box02\">\n",
       " <div id=\"contents_logo_03\"></div><div class=\"contents_mine_tx02\"><span class=\"font_black15\">109/5/14 第109000039期 </span><span class=\"font_red14\"><a href=\"Result_all.aspx#07\">開獎結果</a></span></div><div class=\"contents_mine_tx04\">開出順序<br/>大小順序</div><div class=\"ball_tx ball_green\">12 </div><div class=\"ball_tx ball_green\">24 </div><div class=\"ball_tx ball_green\">17 </div><div class=\"ball_tx ball_green\">35 </div><div class=\"ball_tx ball_green\">30 </div><div class=\"ball_tx ball_green\">34 </div><div class=\"ball_tx ball_green\">12 </div><div class=\"ball_tx ball_green\">17 </div><div class=\"ball_tx ball_green\">24 </div><div class=\"ball_tx ball_green\">30 </div><div class=\"ball_tx ball_green\">34 </div><div class=\"ball_tx ball_green\">35 </div>\n",
       " </div>,\n",
       " <div class=\"contents_box02\">\n",
       " <div id=\"contents_logo_04\"></div><div class=\"contents_mine_tx02\"><span class=\"font_black15\">109/5/12 第109000046期 </span><span class=\"font_red14\"><a href=\"Result_all.aspx#02\">開獎結果</a></span></div><div class=\"contents_mine_tx04\">開出順序<br/>大小順序<br/>特別號</div><div class=\"ball_tx ball_yellow\">35 </div><div class=\"ball_tx ball_yellow\">01 </div><div class=\"ball_tx ball_yellow\">08 </div><div class=\"ball_tx ball_yellow\">36 </div><div class=\"ball_tx ball_yellow\">05 </div><div class=\"ball_tx ball_yellow\">11 </div><div class=\"ball_tx ball_yellow\">01 </div><div class=\"ball_tx ball_yellow\">05 </div><div class=\"ball_tx ball_yellow\">08 </div><div class=\"ball_tx ball_yellow\">11 </div><div class=\"ball_tx ball_yellow\">35 </div><div class=\"ball_tx ball_yellow\">36 </div><div class=\"ball_red\">26 </div>\n",
       " </div>,\n",
       " <div class=\"contents_box02\">\n",
       " <div id=\"contents_logo_05\"></div><div class=\"contents_mine_tx02\"><span class=\"font_black15\">109/5/12 第109000046期 </span><span class=\"font_red14\"><a href=\"Result_all.aspx#08\">開獎結果</a></span></div><div class=\"contents_mine_tx04\">開出順序<br/>大小順序</div><div class=\"ball_tx ball_yellow\">35 </div><div class=\"ball_tx ball_yellow\">01 </div><div class=\"ball_tx ball_yellow\">08 </div><div class=\"ball_tx ball_yellow\">36 </div><div class=\"ball_tx ball_yellow\">05 </div><div class=\"ball_tx ball_yellow\">11 </div><div class=\"ball_tx ball_yellow\">01 </div><div class=\"ball_tx ball_yellow\">05 </div><div class=\"ball_tx ball_yellow\">08 </div><div class=\"ball_tx ball_yellow\">11 </div><div class=\"ball_tx ball_yellow\">35 </div><div class=\"ball_tx ball_yellow\">36 </div>\n",
       " </div>]"
      ]
     },
     "execution_count": 113,
     "metadata": {},
     "output_type": "execute_result"
    }
   ],
   "source": [
    "Select08"
   ]
  },
  {
   "cell_type": "code",
   "execution_count": 114,
   "metadata": {},
   "outputs": [],
   "source": [
    "Select09 = Select08[2].find_all('div', {'class':'ball_tx ball_yellow'})"
   ]
  },
  {
   "cell_type": "code",
   "execution_count": 115,
   "metadata": {},
   "outputs": [
    {
     "data": {
      "text/plain": [
       "[<div class=\"ball_tx ball_yellow\">35 </div>,\n",
       " <div class=\"ball_tx ball_yellow\">01 </div>,\n",
       " <div class=\"ball_tx ball_yellow\">08 </div>,\n",
       " <div class=\"ball_tx ball_yellow\">36 </div>,\n",
       " <div class=\"ball_tx ball_yellow\">05 </div>,\n",
       " <div class=\"ball_tx ball_yellow\">11 </div>,\n",
       " <div class=\"ball_tx ball_yellow\">01 </div>,\n",
       " <div class=\"ball_tx ball_yellow\">05 </div>,\n",
       " <div class=\"ball_tx ball_yellow\">08 </div>,\n",
       " <div class=\"ball_tx ball_yellow\">11 </div>,\n",
       " <div class=\"ball_tx ball_yellow\">35 </div>,\n",
       " <div class=\"ball_tx ball_yellow\">36 </div>]"
      ]
     },
     "execution_count": 115,
     "metadata": {},
     "output_type": "execute_result"
    }
   ],
   "source": [
    "Select09"
   ]
  },
  {
   "cell_type": "code",
   "execution_count": 116,
   "metadata": {},
   "outputs": [
    {
     "name": "stdout",
     "output_type": "stream",
     "text": [
      "35 \n",
      "01 \n",
      "08 \n",
      "36 \n",
      "05 \n",
      "11 \n"
     ]
    }
   ],
   "source": [
    "for i in range(0,6):\n",
    "    print(Select09[i].text)"
   ]
  },
  {
   "cell_type": "code",
   "execution_count": 117,
   "metadata": {},
   "outputs": [],
   "source": [
    "import re"
   ]
  },
  {
   "cell_type": "code",
   "execution_count": 118,
   "metadata": {},
   "outputs": [
    {
     "name": "stdout",
     "output_type": "stream",
     "text": [
      "<re.Match object; span=(0, 3), match='pyt'>\n"
     ]
    }
   ],
   "source": [
    "print(re.match(r'pyt','python'))"
   ]
  },
  {
   "cell_type": "code",
   "execution_count": 119,
   "metadata": {},
   "outputs": [
    {
     "name": "stdout",
     "output_type": "stream",
     "text": [
      "None\n"
     ]
    }
   ],
   "source": [
    "print(re.match(r'pt','python'))"
   ]
  },
  {
   "cell_type": "code",
   "execution_count": 120,
   "metadata": {},
   "outputs": [
    {
     "name": "stdout",
     "output_type": "stream",
     "text": [
      "<re.Match object; span=(0, 3), match='pyt'>\n"
     ]
    }
   ],
   "source": [
    "print(re.match(r'pyt','python_python'))"
   ]
  },
  {
   "cell_type": "code",
   "execution_count": 121,
   "metadata": {},
   "outputs": [
    {
     "name": "stdout",
     "output_type": "stream",
     "text": [
      "<re.Match object; span=(0, 3), match='pyt'>\n"
     ]
    }
   ],
   "source": [
    "print(re.search(r'pyt','python_python'))"
   ]
  },
  {
   "cell_type": "code",
   "execution_count": 122,
   "metadata": {},
   "outputs": [
    {
     "name": "stdout",
     "output_type": "stream",
     "text": [
      "None\n"
     ]
    }
   ],
   "source": [
    "print(re.search(r'pt','python_python'))"
   ]
  },
  {
   "cell_type": "code",
   "execution_count": 125,
   "metadata": {},
   "outputs": [],
   "source": [
    "m = re.search(r'pyt','python_python')"
   ]
  },
  {
   "cell_type": "code",
   "execution_count": 127,
   "metadata": {},
   "outputs": [
    {
     "name": "stdout",
     "output_type": "stream",
     "text": [
      "pyt\n"
     ]
    }
   ],
   "source": [
    "print(m.group())"
   ]
  },
  {
   "cell_type": "code",
   "execution_count": 128,
   "metadata": {},
   "outputs": [
    {
     "name": "stdout",
     "output_type": "stream",
     "text": [
      "0\n"
     ]
    }
   ],
   "source": [
    "print(m.start())"
   ]
  },
  {
   "cell_type": "code",
   "execution_count": 129,
   "metadata": {},
   "outputs": [
    {
     "name": "stdout",
     "output_type": "stream",
     "text": [
      "3\n"
     ]
    }
   ],
   "source": [
    "print(m.end())"
   ]
  },
  {
   "cell_type": "code",
   "execution_count": 130,
   "metadata": {},
   "outputs": [
    {
     "name": "stdout",
     "output_type": "stream",
     "text": [
      "(0, 3)\n"
     ]
    }
   ],
   "source": [
    "print(m.span())"
   ]
  },
  {
   "cell_type": "code",
   "execution_count": 131,
   "metadata": {},
   "outputs": [
    {
     "name": "stdout",
     "output_type": "stream",
     "text": [
      "[]\n"
     ]
    }
   ],
   "source": [
    "print(re.findall(r'[a-z]+', '123456'))"
   ]
  },
  {
   "cell_type": "code",
   "execution_count": 132,
   "metadata": {},
   "outputs": [
    {
     "name": "stdout",
     "output_type": "stream",
     "text": [
      "['cat', 'dog', 'fish']\n"
     ]
    }
   ],
   "source": [
    "print(re.findall(r'[a-z]+', '12cat34dog56fish'))"
   ]
  },
  {
   "cell_type": "code",
   "execution_count": 133,
   "metadata": {},
   "outputs": [
    {
     "name": "stdout",
     "output_type": "stream",
     "text": [
      "12pig34pig56pig\n"
     ]
    }
   ],
   "source": [
    "print(re.sub(r'[a-z]+', 'pig','12cat34dog56fish'))"
   ]
  },
  {
   "cell_type": "code",
   "execution_count": null,
   "metadata": {},
   "outputs": [],
   "source": []
  }
 ],
 "metadata": {
  "kernelspec": {
   "display_name": "Python 3",
   "language": "python",
   "name": "python3"
  },
  "language_info": {
   "codemirror_mode": {
    "name": "ipython",
    "version": 3
   },
   "file_extension": ".py",
   "mimetype": "text/x-python",
   "name": "python",
   "nbconvert_exporter": "python",
   "pygments_lexer": "ipython3",
   "version": "3.7.6"
  }
 },
 "nbformat": 4,
 "nbformat_minor": 4
}
